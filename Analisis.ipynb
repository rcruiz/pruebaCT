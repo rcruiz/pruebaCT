{
 "cells": [
  {
   "cell_type": "markdown",
   "id": "93d2ce86",
   "metadata": {},
   "source": [
    "# Análisis de Dr. Scratch  "
   ]
  },
  {
   "cell_type": "markdown",
   "id": "69d9ade9",
   "metadata": {},
   "source": [
    "<p> Se ha de realizar un análisis previo y general sobre los datos obtenidos a partir de los distintos proyectos .sb3.</p> \n",
    "<p> Se indican a continuación cuáles son las puntuaciones que se consiguen en cada proyecto, para cada una de las 7 habilidades analizadas del pensamiento computacional.</p>"
   ]
  },
  {
   "cell_type": "markdown",
   "id": "b753d932",
   "metadata": {},
   "source": [
    "Lo primero será importar las librerías necesarias y cargar los datos proporcionados en resultados.csv. Con ello obtenemos el siguiente dataframe."
   ]
  },
  {
   "cell_type": "code",
   "execution_count": 1,
   "id": "8164fa99",
   "metadata": {},
   "outputs": [],
   "source": [
    "import numpy as np\n",
    "import pandas as pd\n",
    "import matplotlib.pyplot as plt\n",
    "import seaborn as sns"
   ]
  },
  {
   "cell_type": "code",
   "execution_count": 2,
   "id": "80303f56",
   "metadata": {},
   "outputs": [],
   "source": [
    "%matplotlib inline"
   ]
  },
  {
   "cell_type": "code",
   "execution_count": 3,
   "id": "5b3a465c",
   "metadata": {},
   "outputs": [
    {
     "data": {
      "text/html": [
       "<div>\n",
       "<style scoped>\n",
       "    .dataframe tbody tr th:only-of-type {\n",
       "        vertical-align: middle;\n",
       "    }\n",
       "\n",
       "    .dataframe tbody tr th {\n",
       "        vertical-align: top;\n",
       "    }\n",
       "\n",
       "    .dataframe thead th {\n",
       "        text-align: right;\n",
       "    }\n",
       "</style>\n",
       "<table border=\"1\" class=\"dataframe\">\n",
       "  <thead>\n",
       "    <tr style=\"text-align: right;\">\n",
       "      <th></th>\n",
       "      <th>Project</th>\n",
       "      <th>Total</th>\n",
       "      <th>Average</th>\n",
       "      <th>Level</th>\n",
       "      <th>Abstraction</th>\n",
       "      <th>Parallelization</th>\n",
       "      <th>Logic</th>\n",
       "      <th>Synchronization</th>\n",
       "      <th>Flow Control</th>\n",
       "      <th>UserInteractivity</th>\n",
       "      <th>DataRepresentation</th>\n",
       "    </tr>\n",
       "  </thead>\n",
       "  <tbody>\n",
       "    <tr>\n",
       "      <th>0</th>\n",
       "      <td>12002214_2019_11_27_14_26_43_941914.sb3</td>\n",
       "      <td>0</td>\n",
       "      <td>0.000000</td>\n",
       "      <td>Basic</td>\n",
       "      <td>0</td>\n",
       "      <td>0</td>\n",
       "      <td>0</td>\n",
       "      <td>0</td>\n",
       "      <td>0</td>\n",
       "      <td>0</td>\n",
       "      <td>0</td>\n",
       "    </tr>\n",
       "    <tr>\n",
       "      <th>1</th>\n",
       "      <td>120039229_2019_12_24_06_12_25_867981.sb3</td>\n",
       "      <td>13</td>\n",
       "      <td>1.857143</td>\n",
       "      <td>Developing</td>\n",
       "      <td>1</td>\n",
       "      <td>2</td>\n",
       "      <td>3</td>\n",
       "      <td>1</td>\n",
       "      <td>1</td>\n",
       "      <td>2</td>\n",
       "      <td>3</td>\n",
       "    </tr>\n",
       "    <tr>\n",
       "      <th>2</th>\n",
       "      <td>1202324_2020_06_16_08_40_16_613045.sb3</td>\n",
       "      <td>14</td>\n",
       "      <td>2.000000</td>\n",
       "      <td>Developing</td>\n",
       "      <td>3</td>\n",
       "      <td>3</td>\n",
       "      <td>2</td>\n",
       "      <td>1</td>\n",
       "      <td>2</td>\n",
       "      <td>2</td>\n",
       "      <td>1</td>\n",
       "    </tr>\n",
       "    <tr>\n",
       "      <th>3</th>\n",
       "      <td>12027518_2021_01_13_13_37_57_574946.sb3</td>\n",
       "      <td>18</td>\n",
       "      <td>2.571429</td>\n",
       "      <td>Proficiency</td>\n",
       "      <td>3</td>\n",
       "      <td>3</td>\n",
       "      <td>3</td>\n",
       "      <td>1</td>\n",
       "      <td>3</td>\n",
       "      <td>2</td>\n",
       "      <td>3</td>\n",
       "    </tr>\n",
       "    <tr>\n",
       "      <th>4</th>\n",
       "      <td>120406791_2020_10_04_06_51_35_316448.sb3</td>\n",
       "      <td>5</td>\n",
       "      <td>0.714286</td>\n",
       "      <td>Basic</td>\n",
       "      <td>0</td>\n",
       "      <td>2</td>\n",
       "      <td>0</td>\n",
       "      <td>1</td>\n",
       "      <td>1</td>\n",
       "      <td>1</td>\n",
       "      <td>0</td>\n",
       "    </tr>\n",
       "  </tbody>\n",
       "</table>\n",
       "</div>"
      ],
      "text/plain": [
       "                                    Project  Total   Average        Level  \\\n",
       "0   12002214_2019_11_27_14_26_43_941914.sb3      0  0.000000        Basic   \n",
       "1  120039229_2019_12_24_06_12_25_867981.sb3     13  1.857143   Developing   \n",
       "2    1202324_2020_06_16_08_40_16_613045.sb3     14  2.000000   Developing   \n",
       "3   12027518_2021_01_13_13_37_57_574946.sb3     18  2.571429  Proficiency   \n",
       "4  120406791_2020_10_04_06_51_35_316448.sb3      5  0.714286        Basic   \n",
       "\n",
       "   Abstraction  Parallelization  Logic  Synchronization  Flow Control  \\\n",
       "0            0                0      0                0             0   \n",
       "1            1                2      3                1             1   \n",
       "2            3                3      2                1             2   \n",
       "3            3                3      3                1             3   \n",
       "4            0                2      0                1             1   \n",
       "\n",
       "   UserInteractivity  DataRepresentation  \n",
       "0                  0                   0  \n",
       "1                  2                   3  \n",
       "2                  2                   1  \n",
       "3                  2                   3  \n",
       "4                  1                   0  "
      ]
     },
     "execution_count": 3,
     "metadata": {},
     "output_type": "execute_result"
    }
   ],
   "source": [
    "df_analyzer = pd.read_csv(\"resultados.csv\")\n",
    "df_analyzer.head()"
   ]
  },
  {
   "cell_type": "markdown",
   "id": "e71b0f46",
   "metadata": {},
   "source": [
    "En el dataframe df_analyzer, se recogen las puntuaciones obtenidas para cada proyecto. Además del total y la media, podemos ver la puntuación específica para cada una de las siete habilidades que reflejan el pensamiento computacional. Se puntúan de 0 a 3. Para obtener información sobre el tipo de estas variables o columnas:"
   ]
  },
  {
   "cell_type": "code",
   "execution_count": 4,
   "id": "450264b2",
   "metadata": {},
   "outputs": [
    {
     "name": "stdout",
     "output_type": "stream",
     "text": [
      "<class 'pandas.core.frame.DataFrame'>\n",
      "RangeIndex: 100 entries, 0 to 99\n",
      "Data columns (total 11 columns):\n",
      " #   Column              Non-Null Count  Dtype  \n",
      "---  ------              --------------  -----  \n",
      " 0   Project             100 non-null    object \n",
      " 1   Total               100 non-null    int64  \n",
      " 2   Average             100 non-null    float64\n",
      " 3   Level               100 non-null    object \n",
      " 4   Abstraction         100 non-null    int64  \n",
      " 5   Parallelization     100 non-null    int64  \n",
      " 6   Logic               100 non-null    int64  \n",
      " 7   Synchronization     100 non-null    int64  \n",
      " 8   Flow Control        100 non-null    int64  \n",
      " 9   UserInteractivity   100 non-null    int64  \n",
      " 10  DataRepresentation  100 non-null    int64  \n",
      "dtypes: float64(1), int64(8), object(2)\n",
      "memory usage: 8.7+ KB\n"
     ]
    }
   ],
   "source": [
    "df_analyzer.info()"
   ]
  },
  {
   "cell_type": "markdown",
   "id": "d628b044",
   "metadata": {},
   "source": [
    "Cada una de las variables del pensamiento computacional son enteros. Su suma da el total, que también es de tipo entero. La media obtenida para cada proyecto es de tipo float64. A partir de ahí, se obtiene cuál es el nivel para cada proyecto, que se agrupa en tres categorías en función de la puntuación total.\n",
    "Además se observa que no hay ningún campo vacío en la tabla."
   ]
  },
  {
   "cell_type": "markdown",
   "id": "16e5397c",
   "metadata": {},
   "source": [
    "Si queremos que la columna Level sea una variable categórica:"
   ]
  },
  {
   "cell_type": "code",
   "execution_count": 5,
   "id": "f1dbb587",
   "metadata": {},
   "outputs": [
    {
     "name": "stdout",
     "output_type": "stream",
     "text": [
      "<class 'pandas.core.frame.DataFrame'>\n",
      "RangeIndex: 100 entries, 0 to 99\n",
      "Data columns (total 11 columns):\n",
      " #   Column              Non-Null Count  Dtype   \n",
      "---  ------              --------------  -----   \n",
      " 0   Project             100 non-null    object  \n",
      " 1   Total               100 non-null    int64   \n",
      " 2   Average             100 non-null    float64 \n",
      " 3   Level               100 non-null    category\n",
      " 4   Abstraction         100 non-null    int64   \n",
      " 5   Parallelization     100 non-null    int64   \n",
      " 6   Logic               100 non-null    int64   \n",
      " 7   Synchronization     100 non-null    int64   \n",
      " 8   Flow Control        100 non-null    int64   \n",
      " 9   UserInteractivity   100 non-null    int64   \n",
      " 10  DataRepresentation  100 non-null    int64   \n",
      "dtypes: category(1), float64(1), int64(8), object(1)\n",
      "memory usage: 8.2+ KB\n"
     ]
    }
   ],
   "source": [
    "df_analyzer[\"Level\"] = pd.Categorical(df_analyzer[\"Level\"])\n",
    "df_analyzer.info()"
   ]
  },
  {
   "cell_type": "markdown",
   "id": "c5ab34fb",
   "metadata": {},
   "source": [
    "Se puede representar la puntuación media solamente con dos decimales, gracias a la siguiente instrucción."
   ]
  },
  {
   "cell_type": "code",
   "execution_count": 6,
   "id": "6ca007de",
   "metadata": {},
   "outputs": [],
   "source": [
    "#pd.set_option(\"display.precision\", 2)\n",
    "pd.set_option('display.float_format', '{:.2f}'.format)"
   ]
  },
  {
   "cell_type": "markdown",
   "id": "0d86c602",
   "metadata": {},
   "source": [
    "Ahora se trata de extraer más información del dataset. Consta de 100 filas o proyectos y 11 columnas, con los datos de interés."
   ]
  },
  {
   "cell_type": "code",
   "execution_count": 7,
   "id": "fdf898d2",
   "metadata": {},
   "outputs": [
    {
     "data": {
      "text/plain": [
       "(100, 11)"
      ]
     },
     "execution_count": 7,
     "metadata": {},
     "output_type": "execute_result"
    }
   ],
   "source": [
    "df_analyzer.shape"
   ]
  },
  {
   "cell_type": "markdown",
   "id": "f47d25a6",
   "metadata": {},
   "source": [
    "Otras formas de acceder a la información sobre las filas y las columnas, se presenta a continuación."
   ]
  },
  {
   "cell_type": "code",
   "execution_count": 8,
   "id": "6b578ebe",
   "metadata": {},
   "outputs": [
    {
     "data": {
      "text/plain": [
       "RangeIndex(start=0, stop=100, step=1)"
      ]
     },
     "execution_count": 8,
     "metadata": {},
     "output_type": "execute_result"
    }
   ],
   "source": [
    "df_analyzer.index"
   ]
  },
  {
   "cell_type": "code",
   "execution_count": 9,
   "id": "08e1aa7d",
   "metadata": {},
   "outputs": [
    {
     "data": {
      "text/plain": [
       "RangeIndex(start=0, stop=100, step=1)"
      ]
     },
     "execution_count": 9,
     "metadata": {},
     "output_type": "execute_result"
    }
   ],
   "source": [
    "df_analyzer.axes[0] # Índice de filas"
   ]
  },
  {
   "cell_type": "code",
   "execution_count": 10,
   "id": "16f651ea",
   "metadata": {},
   "outputs": [
    {
     "data": {
      "text/plain": [
       "Index(['Project', 'Total', 'Average', 'Level', 'Abstraction',\n",
       "       'Parallelization', 'Logic', 'Synchronization', 'Flow Control',\n",
       "       'UserInteractivity', 'DataRepresentation'],\n",
       "      dtype='object')"
      ]
     },
     "execution_count": 10,
     "metadata": {},
     "output_type": "execute_result"
    }
   ],
   "source": [
    "df_analyzer.columns #También se puede df_analyzer.keys()"
   ]
  },
  {
   "cell_type": "code",
   "execution_count": 11,
   "id": "63d111dc",
   "metadata": {},
   "outputs": [
    {
     "data": {
      "text/plain": [
       "Index(['Project', 'Total', 'Average', 'Level', 'Abstraction',\n",
       "       'Parallelization', 'Logic', 'Synchronization', 'Flow Control',\n",
       "       'UserInteractivity', 'DataRepresentation'],\n",
       "      dtype='object')"
      ]
     },
     "execution_count": 11,
     "metadata": {},
     "output_type": "execute_result"
    }
   ],
   "source": [
    "df_analyzer.axes[1] # Índice de columnas"
   ]
  },
  {
   "cell_type": "markdown",
   "id": "ff4c98fe",
   "metadata": {},
   "source": [
    "**Estadística descriptiva básica para las variables numéricas**."
   ]
  },
  {
   "cell_type": "markdown",
   "id": "0008ca6f",
   "metadata": {},
   "source": [
    "A continuación obtenemos el resumen estadístico de los datos teniendo en cuenta los 100 proyectos analizados. La mayor puntuación media se obtiene para paralelización. La desviación estándar presenta valores elevados en cada área del pensamiento computacional (CT) para un rango de valores de la variable de 0 a 3, presentando su valor mayor de dispersión en lógica. En un 75% de las ocasiones los proyectos no superan los 15 puntos totales en cuanto a pensamiento computacional."
   ]
  },
  {
   "cell_type": "code",
   "execution_count": 12,
   "id": "e545e8fb",
   "metadata": {
    "scrolled": true
   },
   "outputs": [
    {
     "data": {
      "text/html": [
       "<div>\n",
       "<style scoped>\n",
       "    .dataframe tbody tr th:only-of-type {\n",
       "        vertical-align: middle;\n",
       "    }\n",
       "\n",
       "    .dataframe tbody tr th {\n",
       "        vertical-align: top;\n",
       "    }\n",
       "\n",
       "    .dataframe thead th {\n",
       "        text-align: right;\n",
       "    }\n",
       "</style>\n",
       "<table border=\"1\" class=\"dataframe\">\n",
       "  <thead>\n",
       "    <tr style=\"text-align: right;\">\n",
       "      <th></th>\n",
       "      <th>Total</th>\n",
       "      <th>Average</th>\n",
       "      <th>Abstraction</th>\n",
       "      <th>Parallelization</th>\n",
       "      <th>Logic</th>\n",
       "      <th>Synchronization</th>\n",
       "      <th>Flow Control</th>\n",
       "      <th>UserInteractivity</th>\n",
       "      <th>DataRepresentation</th>\n",
       "    </tr>\n",
       "  </thead>\n",
       "  <tbody>\n",
       "    <tr>\n",
       "      <th>count</th>\n",
       "      <td>100.00</td>\n",
       "      <td>100.00</td>\n",
       "      <td>100.00</td>\n",
       "      <td>100.00</td>\n",
       "      <td>100.00</td>\n",
       "      <td>100.00</td>\n",
       "      <td>100.00</td>\n",
       "      <td>100.00</td>\n",
       "      <td>100.00</td>\n",
       "    </tr>\n",
       "    <tr>\n",
       "      <th>mean</th>\n",
       "      <td>10.52</td>\n",
       "      <td>1.50</td>\n",
       "      <td>1.30</td>\n",
       "      <td>1.75</td>\n",
       "      <td>1.63</td>\n",
       "      <td>1.23</td>\n",
       "      <td>1.47</td>\n",
       "      <td>1.57</td>\n",
       "      <td>1.57</td>\n",
       "    </tr>\n",
       "    <tr>\n",
       "      <th>std</th>\n",
       "      <td>6.08</td>\n",
       "      <td>0.87</td>\n",
       "      <td>1.22</td>\n",
       "      <td>0.96</td>\n",
       "      <td>1.26</td>\n",
       "      <td>1.08</td>\n",
       "      <td>0.83</td>\n",
       "      <td>0.78</td>\n",
       "      <td>1.27</td>\n",
       "    </tr>\n",
       "    <tr>\n",
       "      <th>min</th>\n",
       "      <td>0.00</td>\n",
       "      <td>0.00</td>\n",
       "      <td>0.00</td>\n",
       "      <td>0.00</td>\n",
       "      <td>0.00</td>\n",
       "      <td>0.00</td>\n",
       "      <td>0.00</td>\n",
       "      <td>0.00</td>\n",
       "      <td>0.00</td>\n",
       "    </tr>\n",
       "    <tr>\n",
       "      <th>25%</th>\n",
       "      <td>5.00</td>\n",
       "      <td>0.71</td>\n",
       "      <td>0.00</td>\n",
       "      <td>1.75</td>\n",
       "      <td>0.00</td>\n",
       "      <td>0.00</td>\n",
       "      <td>1.00</td>\n",
       "      <td>1.75</td>\n",
       "      <td>0.00</td>\n",
       "    </tr>\n",
       "    <tr>\n",
       "      <th>50%</th>\n",
       "      <td>13.00</td>\n",
       "      <td>1.86</td>\n",
       "      <td>1.00</td>\n",
       "      <td>2.00</td>\n",
       "      <td>2.00</td>\n",
       "      <td>1.00</td>\n",
       "      <td>2.00</td>\n",
       "      <td>2.00</td>\n",
       "      <td>2.00</td>\n",
       "    </tr>\n",
       "    <tr>\n",
       "      <th>75%</th>\n",
       "      <td>15.00</td>\n",
       "      <td>2.14</td>\n",
       "      <td>3.00</td>\n",
       "      <td>2.00</td>\n",
       "      <td>3.00</td>\n",
       "      <td>2.00</td>\n",
       "      <td>2.00</td>\n",
       "      <td>2.00</td>\n",
       "      <td>3.00</td>\n",
       "    </tr>\n",
       "    <tr>\n",
       "      <th>max</th>\n",
       "      <td>19.00</td>\n",
       "      <td>2.71</td>\n",
       "      <td>3.00</td>\n",
       "      <td>3.00</td>\n",
       "      <td>3.00</td>\n",
       "      <td>3.00</td>\n",
       "      <td>3.00</td>\n",
       "      <td>2.00</td>\n",
       "      <td>3.00</td>\n",
       "    </tr>\n",
       "  </tbody>\n",
       "</table>\n",
       "</div>"
      ],
      "text/plain": [
       "       Total  Average  Abstraction  Parallelization  Logic  Synchronization  \\\n",
       "count 100.00   100.00       100.00           100.00 100.00           100.00   \n",
       "mean   10.52     1.50         1.30             1.75   1.63             1.23   \n",
       "std     6.08     0.87         1.22             0.96   1.26             1.08   \n",
       "min     0.00     0.00         0.00             0.00   0.00             0.00   \n",
       "25%     5.00     0.71         0.00             1.75   0.00             0.00   \n",
       "50%    13.00     1.86         1.00             2.00   2.00             1.00   \n",
       "75%    15.00     2.14         3.00             2.00   3.00             2.00   \n",
       "max    19.00     2.71         3.00             3.00   3.00             3.00   \n",
       "\n",
       "       Flow Control  UserInteractivity  DataRepresentation  \n",
       "count        100.00             100.00              100.00  \n",
       "mean           1.47               1.57                1.57  \n",
       "std            0.83               0.78                1.27  \n",
       "min            0.00               0.00                0.00  \n",
       "25%            1.00               1.75                0.00  \n",
       "50%            2.00               2.00                2.00  \n",
       "75%            2.00               2.00                3.00  \n",
       "max            3.00               2.00                3.00  "
      ]
     },
     "execution_count": 12,
     "metadata": {},
     "output_type": "execute_result"
    }
   ],
   "source": [
    "df_analyzer.describe()"
   ]
  },
  {
   "cell_type": "markdown",
   "id": "38e77442",
   "metadata": {},
   "source": [
    "El resumen estadístico para las variables no numéricas nos indica de nuevo que hay 100 proyectos únicos en la muestra."
   ]
  },
  {
   "cell_type": "code",
   "execution_count": 13,
   "id": "6c5944d0",
   "metadata": {},
   "outputs": [
    {
     "data": {
      "text/html": [
       "<div>\n",
       "<style scoped>\n",
       "    .dataframe tbody tr th:only-of-type {\n",
       "        vertical-align: middle;\n",
       "    }\n",
       "\n",
       "    .dataframe tbody tr th {\n",
       "        vertical-align: top;\n",
       "    }\n",
       "\n",
       "    .dataframe thead th {\n",
       "        text-align: right;\n",
       "    }\n",
       "</style>\n",
       "<table border=\"1\" class=\"dataframe\">\n",
       "  <thead>\n",
       "    <tr style=\"text-align: right;\">\n",
       "      <th></th>\n",
       "      <th>Project</th>\n",
       "    </tr>\n",
       "  </thead>\n",
       "  <tbody>\n",
       "    <tr>\n",
       "      <th>count</th>\n",
       "      <td>100</td>\n",
       "    </tr>\n",
       "    <tr>\n",
       "      <th>unique</th>\n",
       "      <td>100</td>\n",
       "    </tr>\n",
       "    <tr>\n",
       "      <th>top</th>\n",
       "      <td>123142330_2020_03_02_14_38_01_469193.sb3</td>\n",
       "    </tr>\n",
       "    <tr>\n",
       "      <th>freq</th>\n",
       "      <td>1</td>\n",
       "    </tr>\n",
       "  </tbody>\n",
       "</table>\n",
       "</div>"
      ],
      "text/plain": [
       "                                         Project\n",
       "count                                        100\n",
       "unique                                       100\n",
       "top     123142330_2020_03_02_14_38_01_469193.sb3\n",
       "freq                                           1"
      ]
     },
     "execution_count": 13,
     "metadata": {},
     "output_type": "execute_result"
    }
   ],
   "source": [
    "df_analyzer.describe(include=object)"
   ]
  },
  {
   "cell_type": "markdown",
   "id": "546cff53",
   "metadata": {},
   "source": [
    "<p> Los proyectos ordenados de mayor a menor puntuación total, y por lo tanto de mayor a menor puntuación media, son: </p>"
   ]
  },
  {
   "cell_type": "code",
   "execution_count": 14,
   "id": "4508f555",
   "metadata": {
    "scrolled": true
   },
   "outputs": [
    {
     "data": {
      "text/html": [
       "<div>\n",
       "<style scoped>\n",
       "    .dataframe tbody tr th:only-of-type {\n",
       "        vertical-align: middle;\n",
       "    }\n",
       "\n",
       "    .dataframe tbody tr th {\n",
       "        vertical-align: top;\n",
       "    }\n",
       "\n",
       "    .dataframe thead th {\n",
       "        text-align: right;\n",
       "    }\n",
       "</style>\n",
       "<table border=\"1\" class=\"dataframe\">\n",
       "  <thead>\n",
       "    <tr style=\"text-align: right;\">\n",
       "      <th></th>\n",
       "      <th>Project</th>\n",
       "      <th>Total</th>\n",
       "      <th>Average</th>\n",
       "      <th>Level</th>\n",
       "      <th>Abstraction</th>\n",
       "      <th>Parallelization</th>\n",
       "      <th>Logic</th>\n",
       "      <th>Synchronization</th>\n",
       "      <th>Flow Control</th>\n",
       "      <th>UserInteractivity</th>\n",
       "      <th>DataRepresentation</th>\n",
       "    </tr>\n",
       "  </thead>\n",
       "  <tbody>\n",
       "    <tr>\n",
       "      <th>45</th>\n",
       "      <td>123259467_2019_12_24_06_14_24_921337.sb3</td>\n",
       "      <td>19</td>\n",
       "      <td>2.71</td>\n",
       "      <td>Proficiency</td>\n",
       "      <td>3</td>\n",
       "      <td>3</td>\n",
       "      <td>3</td>\n",
       "      <td>2</td>\n",
       "      <td>3</td>\n",
       "      <td>2</td>\n",
       "      <td>3</td>\n",
       "    </tr>\n",
       "    <tr>\n",
       "      <th>43</th>\n",
       "      <td>123142330_2020_03_02_14_38_01_469193.sb3</td>\n",
       "      <td>18</td>\n",
       "      <td>2.57</td>\n",
       "      <td>Proficiency</td>\n",
       "      <td>3</td>\n",
       "      <td>3</td>\n",
       "      <td>2</td>\n",
       "      <td>3</td>\n",
       "      <td>2</td>\n",
       "      <td>2</td>\n",
       "      <td>3</td>\n",
       "    </tr>\n",
       "    <tr>\n",
       "      <th>3</th>\n",
       "      <td>12027518_2021_01_13_13_37_57_574946.sb3</td>\n",
       "      <td>18</td>\n",
       "      <td>2.57</td>\n",
       "      <td>Proficiency</td>\n",
       "      <td>3</td>\n",
       "      <td>3</td>\n",
       "      <td>3</td>\n",
       "      <td>1</td>\n",
       "      <td>3</td>\n",
       "      <td>2</td>\n",
       "      <td>3</td>\n",
       "    </tr>\n",
       "    <tr>\n",
       "      <th>37</th>\n",
       "      <td>12239450_2020_11_17_16_59_31_702345.sb3</td>\n",
       "      <td>17</td>\n",
       "      <td>2.43</td>\n",
       "      <td>Proficiency</td>\n",
       "      <td>3</td>\n",
       "      <td>2</td>\n",
       "      <td>3</td>\n",
       "      <td>2</td>\n",
       "      <td>2</td>\n",
       "      <td>2</td>\n",
       "      <td>3</td>\n",
       "    </tr>\n",
       "    <tr>\n",
       "      <th>35</th>\n",
       "      <td>1223_2020_02_03_15_09_27_783332.sb3</td>\n",
       "      <td>17</td>\n",
       "      <td>2.43</td>\n",
       "      <td>Proficiency</td>\n",
       "      <td>3</td>\n",
       "      <td>2</td>\n",
       "      <td>3</td>\n",
       "      <td>3</td>\n",
       "      <td>2</td>\n",
       "      <td>2</td>\n",
       "      <td>2</td>\n",
       "    </tr>\n",
       "    <tr>\n",
       "      <th>...</th>\n",
       "      <td>...</td>\n",
       "      <td>...</td>\n",
       "      <td>...</td>\n",
       "      <td>...</td>\n",
       "      <td>...</td>\n",
       "      <td>...</td>\n",
       "      <td>...</td>\n",
       "      <td>...</td>\n",
       "      <td>...</td>\n",
       "      <td>...</td>\n",
       "      <td>...</td>\n",
       "    </tr>\n",
       "    <tr>\n",
       "      <th>46</th>\n",
       "      <td>123259467_2020_03_29_22_08_17_838940.sb3</td>\n",
       "      <td>0</td>\n",
       "      <td>0.00</td>\n",
       "      <td>Basic</td>\n",
       "      <td>0</td>\n",
       "      <td>0</td>\n",
       "      <td>0</td>\n",
       "      <td>0</td>\n",
       "      <td>0</td>\n",
       "      <td>0</td>\n",
       "      <td>0</td>\n",
       "    </tr>\n",
       "    <tr>\n",
       "      <th>48</th>\n",
       "      <td>123355627_2019_11_19_14_22_42_147655.sb3</td>\n",
       "      <td>0</td>\n",
       "      <td>0.00</td>\n",
       "      <td>Basic</td>\n",
       "      <td>0</td>\n",
       "      <td>0</td>\n",
       "      <td>0</td>\n",
       "      <td>0</td>\n",
       "      <td>0</td>\n",
       "      <td>0</td>\n",
       "      <td>0</td>\n",
       "    </tr>\n",
       "    <tr>\n",
       "      <th>49</th>\n",
       "      <td>123355627_2019_11_19_14_22_52_525660.sb3</td>\n",
       "      <td>0</td>\n",
       "      <td>0.00</td>\n",
       "      <td>Basic</td>\n",
       "      <td>0</td>\n",
       "      <td>0</td>\n",
       "      <td>0</td>\n",
       "      <td>0</td>\n",
       "      <td>0</td>\n",
       "      <td>0</td>\n",
       "      <td>0</td>\n",
       "    </tr>\n",
       "    <tr>\n",
       "      <th>74</th>\n",
       "      <td>1234567890_2020_02_26_08_37_16_715808.sb3</td>\n",
       "      <td>0</td>\n",
       "      <td>0.00</td>\n",
       "      <td>Basic</td>\n",
       "      <td>0</td>\n",
       "      <td>0</td>\n",
       "      <td>0</td>\n",
       "      <td>0</td>\n",
       "      <td>0</td>\n",
       "      <td>0</td>\n",
       "      <td>0</td>\n",
       "    </tr>\n",
       "    <tr>\n",
       "      <th>0</th>\n",
       "      <td>12002214_2019_11_27_14_26_43_941914.sb3</td>\n",
       "      <td>0</td>\n",
       "      <td>0.00</td>\n",
       "      <td>Basic</td>\n",
       "      <td>0</td>\n",
       "      <td>0</td>\n",
       "      <td>0</td>\n",
       "      <td>0</td>\n",
       "      <td>0</td>\n",
       "      <td>0</td>\n",
       "      <td>0</td>\n",
       "    </tr>\n",
       "  </tbody>\n",
       "</table>\n",
       "<p>100 rows × 11 columns</p>\n",
       "</div>"
      ],
      "text/plain": [
       "                                      Project  Total  Average        Level  \\\n",
       "45   123259467_2019_12_24_06_14_24_921337.sb3     19     2.71  Proficiency   \n",
       "43   123142330_2020_03_02_14_38_01_469193.sb3     18     2.57  Proficiency   \n",
       "3     12027518_2021_01_13_13_37_57_574946.sb3     18     2.57  Proficiency   \n",
       "37    12239450_2020_11_17_16_59_31_702345.sb3     17     2.43  Proficiency   \n",
       "35        1223_2020_02_03_15_09_27_783332.sb3     17     2.43  Proficiency   \n",
       "..                                        ...    ...      ...          ...   \n",
       "46   123259467_2020_03_29_22_08_17_838940.sb3      0     0.00        Basic   \n",
       "48   123355627_2019_11_19_14_22_42_147655.sb3      0     0.00        Basic   \n",
       "49   123355627_2019_11_19_14_22_52_525660.sb3      0     0.00        Basic   \n",
       "74  1234567890_2020_02_26_08_37_16_715808.sb3      0     0.00        Basic   \n",
       "0     12002214_2019_11_27_14_26_43_941914.sb3      0     0.00        Basic   \n",
       "\n",
       "    Abstraction  Parallelization  Logic  Synchronization  Flow Control  \\\n",
       "45            3                3      3                2             3   \n",
       "43            3                3      2                3             2   \n",
       "3             3                3      3                1             3   \n",
       "37            3                2      3                2             2   \n",
       "35            3                2      3                3             2   \n",
       "..          ...              ...    ...              ...           ...   \n",
       "46            0                0      0                0             0   \n",
       "48            0                0      0                0             0   \n",
       "49            0                0      0                0             0   \n",
       "74            0                0      0                0             0   \n",
       "0             0                0      0                0             0   \n",
       "\n",
       "    UserInteractivity  DataRepresentation  \n",
       "45                  2                   3  \n",
       "43                  2                   3  \n",
       "3                   2                   3  \n",
       "37                  2                   3  \n",
       "35                  2                   2  \n",
       "..                ...                 ...  \n",
       "46                  0                   0  \n",
       "48                  0                   0  \n",
       "49                  0                   0  \n",
       "74                  0                   0  \n",
       "0                   0                   0  \n",
       "\n",
       "[100 rows x 11 columns]"
      ]
     },
     "execution_count": 14,
     "metadata": {},
     "output_type": "execute_result"
    }
   ],
   "source": [
    "df_analyzer.sort_values(by='Total', ascending = False)"
   ]
  },
  {
   "cell_type": "markdown",
   "id": "9768ada2",
   "metadata": {},
   "source": [
    "El nº de proyectos con puntuación baja (Level: Basic), media (Level= Developing) y alta (Level: Profeciency) son:"
   ]
  },
  {
   "cell_type": "code",
   "execution_count": 15,
   "id": "df5ac6b2",
   "metadata": {},
   "outputs": [
    {
     "data": {
      "text/plain": [
       "Proficiency    43\n",
       "Basic          30\n",
       "Developing     27\n",
       "Name: Level, dtype: int64"
      ]
     },
     "execution_count": 15,
     "metadata": {},
     "output_type": "execute_result"
    }
   ],
   "source": [
    "df_analyzer[\"Level\"].value_counts(ascending=False)"
   ]
  },
  {
   "cell_type": "code",
   "execution_count": 16,
   "id": "5bcef043",
   "metadata": {},
   "outputs": [
    {
     "data": {
      "text/plain": [
       "Proficiency   0.43\n",
       "Basic         0.30\n",
       "Developing    0.27\n",
       "Name: Level, dtype: float64"
      ]
     },
     "execution_count": 16,
     "metadata": {},
     "output_type": "execute_result"
    }
   ],
   "source": [
    "df_analyzer[\"Level\"].value_counts(normalize=True)"
   ]
  },
  {
   "cell_type": "code",
   "execution_count": 17,
   "id": "3608e7d7",
   "metadata": {},
   "outputs": [
    {
     "data": {
      "image/png": "[encoded data removed]",
      "text/plain": [
       "<Figure size 432x288 with 1 Axes>"
      ]
     },
     "metadata": {
      "needs_background": "light"
     },
     "output_type": "display_data"
    }
   ],
   "source": [
    "values = df_analyzer[\"Level\"].value_counts()\n",
    "names = df_analyzer.Level.unique()\n",
    "plt.bar(names, values)\n",
    "plt.title(\"Number of projects by level\")\n",
    "plt.show()"
   ]
  },
  {
   "cell_type": "markdown",
   "id": "148d7c6e",
   "metadata": {},
   "source": [
    "Así se obtiene el gráfico de distribución por nivel."
   ]
  },
  {
   "cell_type": "code",
   "execution_count": 18,
   "id": "92ad0e9c",
   "metadata": {},
   "outputs": [
    {
     "data": {
      "text/plain": [
       "['Basic', 'Developing', 'Proficiency']\n",
       "Categories (3, object): ['Basic', 'Developing', 'Proficiency']"
      ]
     },
     "execution_count": 18,
     "metadata": {},
     "output_type": "execute_result"
    }
   ],
   "source": [
    "df_analyzer[\"Level\"].unique()"
   ]
  },
  {
   "cell_type": "markdown",
   "id": "a12c0788",
   "metadata": {},
   "source": [
    "Una forma de filtrar por nivel para luego poder visualizar los proyectos de nivel básico, por ejemplo:"
   ]
  },
  {
   "cell_type": "code",
   "execution_count": 19,
   "id": "9e84b19b",
   "metadata": {},
   "outputs": [
    {
     "data": {
      "text/html": [
       "<div>\n",
       "<style scoped>\n",
       "    .dataframe tbody tr th:only-of-type {\n",
       "        vertical-align: middle;\n",
       "    }\n",
       "\n",
       "    .dataframe tbody tr th {\n",
       "        vertical-align: top;\n",
       "    }\n",
       "\n",
       "    .dataframe thead th {\n",
       "        text-align: right;\n",
       "    }\n",
       "</style>\n",
       "<table border=\"1\" class=\"dataframe\">\n",
       "  <thead>\n",
       "    <tr style=\"text-align: right;\">\n",
       "      <th></th>\n",
       "      <th>Project</th>\n",
       "      <th>Total</th>\n",
       "      <th>Average</th>\n",
       "      <th>Level</th>\n",
       "      <th>Abstraction</th>\n",
       "      <th>Parallelization</th>\n",
       "      <th>Logic</th>\n",
       "      <th>Synchronization</th>\n",
       "      <th>Flow Control</th>\n",
       "      <th>UserInteractivity</th>\n",
       "      <th>DataRepresentation</th>\n",
       "    </tr>\n",
       "  </thead>\n",
       "  <tbody>\n",
       "    <tr>\n",
       "      <th>0</th>\n",
       "      <td>12002214_2019_11_27_14_26_43_941914.sb3</td>\n",
       "      <td>0</td>\n",
       "      <td>0.00</td>\n",
       "      <td>Basic</td>\n",
       "      <td>0</td>\n",
       "      <td>0</td>\n",
       "      <td>0</td>\n",
       "      <td>0</td>\n",
       "      <td>0</td>\n",
       "      <td>0</td>\n",
       "      <td>0</td>\n",
       "    </tr>\n",
       "    <tr>\n",
       "      <th>4</th>\n",
       "      <td>120406791_2020_10_04_06_51_35_316448.sb3</td>\n",
       "      <td>5</td>\n",
       "      <td>0.71</td>\n",
       "      <td>Basic</td>\n",
       "      <td>0</td>\n",
       "      <td>2</td>\n",
       "      <td>0</td>\n",
       "      <td>1</td>\n",
       "      <td>1</td>\n",
       "      <td>1</td>\n",
       "      <td>0</td>\n",
       "    </tr>\n",
       "    <tr>\n",
       "      <th>7</th>\n",
       "      <td>120534515_2020_03_29_21_45_24_871377.sb3</td>\n",
       "      <td>0</td>\n",
       "      <td>0.00</td>\n",
       "      <td>Basic</td>\n",
       "      <td>0</td>\n",
       "      <td>0</td>\n",
       "      <td>0</td>\n",
       "      <td>0</td>\n",
       "      <td>0</td>\n",
       "      <td>0</td>\n",
       "      <td>0</td>\n",
       "    </tr>\n",
       "    <tr>\n",
       "      <th>12</th>\n",
       "      <td>12115110_2020_01_08_20_14_14_558772.sb3</td>\n",
       "      <td>0</td>\n",
       "      <td>0.00</td>\n",
       "      <td>Basic</td>\n",
       "      <td>0</td>\n",
       "      <td>0</td>\n",
       "      <td>0</td>\n",
       "      <td>0</td>\n",
       "      <td>0</td>\n",
       "      <td>0</td>\n",
       "      <td>0</td>\n",
       "    </tr>\n",
       "    <tr>\n",
       "      <th>13</th>\n",
       "      <td>12115110_2020_01_08_20_14_28_244141.sb3</td>\n",
       "      <td>0</td>\n",
       "      <td>0.00</td>\n",
       "      <td>Basic</td>\n",
       "      <td>0</td>\n",
       "      <td>0</td>\n",
       "      <td>0</td>\n",
       "      <td>0</td>\n",
       "      <td>0</td>\n",
       "      <td>0</td>\n",
       "      <td>0</td>\n",
       "    </tr>\n",
       "    <tr>\n",
       "      <th>15</th>\n",
       "      <td>121180931_2020_10_28_18_25_00_679248.sb3</td>\n",
       "      <td>0</td>\n",
       "      <td>0.00</td>\n",
       "      <td>Basic</td>\n",
       "      <td>0</td>\n",
       "      <td>0</td>\n",
       "      <td>0</td>\n",
       "      <td>0</td>\n",
       "      <td>0</td>\n",
       "      <td>0</td>\n",
       "      <td>0</td>\n",
       "    </tr>\n",
       "    <tr>\n",
       "      <th>20</th>\n",
       "      <td>121595381_2021_02_01_12_18_25_550087.sb3</td>\n",
       "      <td>7</td>\n",
       "      <td>1.00</td>\n",
       "      <td>Basic</td>\n",
       "      <td>0</td>\n",
       "      <td>2</td>\n",
       "      <td>0</td>\n",
       "      <td>1</td>\n",
       "      <td>1</td>\n",
       "      <td>2</td>\n",
       "      <td>1</td>\n",
       "    </tr>\n",
       "    <tr>\n",
       "      <th>23</th>\n",
       "      <td>121712839_2020_01_17_11_37_54_207556.sb3</td>\n",
       "      <td>0</td>\n",
       "      <td>0.00</td>\n",
       "      <td>Basic</td>\n",
       "      <td>0</td>\n",
       "      <td>0</td>\n",
       "      <td>0</td>\n",
       "      <td>0</td>\n",
       "      <td>0</td>\n",
       "      <td>0</td>\n",
       "      <td>0</td>\n",
       "    </tr>\n",
       "    <tr>\n",
       "      <th>24</th>\n",
       "      <td>121712839_2020_01_17_11_38_07_079322.sb3</td>\n",
       "      <td>0</td>\n",
       "      <td>0.00</td>\n",
       "      <td>Basic</td>\n",
       "      <td>0</td>\n",
       "      <td>0</td>\n",
       "      <td>0</td>\n",
       "      <td>0</td>\n",
       "      <td>0</td>\n",
       "      <td>0</td>\n",
       "      <td>0</td>\n",
       "    </tr>\n",
       "    <tr>\n",
       "      <th>25</th>\n",
       "      <td>121712839_2020_01_17_11_38_33_619453.sb3</td>\n",
       "      <td>0</td>\n",
       "      <td>0.00</td>\n",
       "      <td>Basic</td>\n",
       "      <td>0</td>\n",
       "      <td>0</td>\n",
       "      <td>0</td>\n",
       "      <td>0</td>\n",
       "      <td>0</td>\n",
       "      <td>0</td>\n",
       "      <td>0</td>\n",
       "    </tr>\n",
       "    <tr>\n",
       "      <th>26</th>\n",
       "      <td>121712839_2020_01_17_11_38_55_455840.sb3</td>\n",
       "      <td>0</td>\n",
       "      <td>0.00</td>\n",
       "      <td>Basic</td>\n",
       "      <td>0</td>\n",
       "      <td>0</td>\n",
       "      <td>0</td>\n",
       "      <td>0</td>\n",
       "      <td>0</td>\n",
       "      <td>0</td>\n",
       "      <td>0</td>\n",
       "    </tr>\n",
       "    <tr>\n",
       "      <th>27</th>\n",
       "      <td>12180048_2020_01_16_15_59_04_292218.sb3</td>\n",
       "      <td>0</td>\n",
       "      <td>0.00</td>\n",
       "      <td>Basic</td>\n",
       "      <td>0</td>\n",
       "      <td>0</td>\n",
       "      <td>0</td>\n",
       "      <td>0</td>\n",
       "      <td>0</td>\n",
       "      <td>0</td>\n",
       "      <td>0</td>\n",
       "    </tr>\n",
       "    <tr>\n",
       "      <th>28</th>\n",
       "      <td>12180048_2020_01_16_15_59_17_540331.sb3</td>\n",
       "      <td>0</td>\n",
       "      <td>0.00</td>\n",
       "      <td>Basic</td>\n",
       "      <td>0</td>\n",
       "      <td>0</td>\n",
       "      <td>0</td>\n",
       "      <td>0</td>\n",
       "      <td>0</td>\n",
       "      <td>0</td>\n",
       "      <td>0</td>\n",
       "    </tr>\n",
       "    <tr>\n",
       "      <th>36</th>\n",
       "      <td>122322780_2019_10_28_13_44_28_177364.sb3</td>\n",
       "      <td>0</td>\n",
       "      <td>0.00</td>\n",
       "      <td>Basic</td>\n",
       "      <td>0</td>\n",
       "      <td>0</td>\n",
       "      <td>0</td>\n",
       "      <td>0</td>\n",
       "      <td>0</td>\n",
       "      <td>0</td>\n",
       "      <td>0</td>\n",
       "    </tr>\n",
       "    <tr>\n",
       "      <th>46</th>\n",
       "      <td>123259467_2020_03_29_22_08_17_838940.sb3</td>\n",
       "      <td>0</td>\n",
       "      <td>0.00</td>\n",
       "      <td>Basic</td>\n",
       "      <td>0</td>\n",
       "      <td>0</td>\n",
       "      <td>0</td>\n",
       "      <td>0</td>\n",
       "      <td>0</td>\n",
       "      <td>0</td>\n",
       "      <td>0</td>\n",
       "    </tr>\n",
       "    <tr>\n",
       "      <th>48</th>\n",
       "      <td>123355627_2019_11_19_14_22_42_147655.sb3</td>\n",
       "      <td>0</td>\n",
       "      <td>0.00</td>\n",
       "      <td>Basic</td>\n",
       "      <td>0</td>\n",
       "      <td>0</td>\n",
       "      <td>0</td>\n",
       "      <td>0</td>\n",
       "      <td>0</td>\n",
       "      <td>0</td>\n",
       "      <td>0</td>\n",
       "    </tr>\n",
       "    <tr>\n",
       "      <th>49</th>\n",
       "      <td>123355627_2019_11_19_14_22_52_525660.sb3</td>\n",
       "      <td>0</td>\n",
       "      <td>0.00</td>\n",
       "      <td>Basic</td>\n",
       "      <td>0</td>\n",
       "      <td>0</td>\n",
       "      <td>0</td>\n",
       "      <td>0</td>\n",
       "      <td>0</td>\n",
       "      <td>0</td>\n",
       "      <td>0</td>\n",
       "    </tr>\n",
       "    <tr>\n",
       "      <th>74</th>\n",
       "      <td>1234567890_2020_02_26_08_37_16_715808.sb3</td>\n",
       "      <td>0</td>\n",
       "      <td>0.00</td>\n",
       "      <td>Basic</td>\n",
       "      <td>0</td>\n",
       "      <td>0</td>\n",
       "      <td>0</td>\n",
       "      <td>0</td>\n",
       "      <td>0</td>\n",
       "      <td>0</td>\n",
       "      <td>0</td>\n",
       "    </tr>\n",
       "    <tr>\n",
       "      <th>75</th>\n",
       "      <td>123456789_2020_03_06_16_05_06_943651.sb3</td>\n",
       "      <td>0</td>\n",
       "      <td>0.00</td>\n",
       "      <td>Basic</td>\n",
       "      <td>0</td>\n",
       "      <td>0</td>\n",
       "      <td>0</td>\n",
       "      <td>0</td>\n",
       "      <td>0</td>\n",
       "      <td>0</td>\n",
       "      <td>0</td>\n",
       "    </tr>\n",
       "    <tr>\n",
       "      <th>76</th>\n",
       "      <td>123456789_2020_04_26_16_00_22_365850.sb3</td>\n",
       "      <td>0</td>\n",
       "      <td>0.00</td>\n",
       "      <td>Basic</td>\n",
       "      <td>0</td>\n",
       "      <td>0</td>\n",
       "      <td>0</td>\n",
       "      <td>0</td>\n",
       "      <td>0</td>\n",
       "      <td>0</td>\n",
       "      <td>0</td>\n",
       "    </tr>\n",
       "    <tr>\n",
       "      <th>90</th>\n",
       "      <td>12-test1_2020_02_25_03_22_34_657729.sb3</td>\n",
       "      <td>4</td>\n",
       "      <td>0.57</td>\n",
       "      <td>Basic</td>\n",
       "      <td>0</td>\n",
       "      <td>2</td>\n",
       "      <td>0</td>\n",
       "      <td>0</td>\n",
       "      <td>1</td>\n",
       "      <td>1</td>\n",
       "      <td>0</td>\n",
       "    </tr>\n",
       "    <tr>\n",
       "      <th>91</th>\n",
       "      <td>12-test1_2020_04_15_09_31_47_478195.sb3</td>\n",
       "      <td>4</td>\n",
       "      <td>0.57</td>\n",
       "      <td>Basic</td>\n",
       "      <td>0</td>\n",
       "      <td>2</td>\n",
       "      <td>0</td>\n",
       "      <td>0</td>\n",
       "      <td>1</td>\n",
       "      <td>1</td>\n",
       "      <td>0</td>\n",
       "    </tr>\n",
       "    <tr>\n",
       "      <th>92</th>\n",
       "      <td>12-test1_2020_04_15_09_47_06_291802.sb3</td>\n",
       "      <td>4</td>\n",
       "      <td>0.57</td>\n",
       "      <td>Basic</td>\n",
       "      <td>0</td>\n",
       "      <td>2</td>\n",
       "      <td>0</td>\n",
       "      <td>0</td>\n",
       "      <td>1</td>\n",
       "      <td>1</td>\n",
       "      <td>0</td>\n",
       "    </tr>\n",
       "    <tr>\n",
       "      <th>93</th>\n",
       "      <td>12-test1_2020_04_15_11_12_53_996106.sb3</td>\n",
       "      <td>5</td>\n",
       "      <td>0.71</td>\n",
       "      <td>Basic</td>\n",
       "      <td>0</td>\n",
       "      <td>2</td>\n",
       "      <td>0</td>\n",
       "      <td>1</td>\n",
       "      <td>1</td>\n",
       "      <td>1</td>\n",
       "      <td>0</td>\n",
       "    </tr>\n",
       "    <tr>\n",
       "      <th>94</th>\n",
       "      <td>12-test3_2020_03_03_03_32_55_409735.sb3</td>\n",
       "      <td>5</td>\n",
       "      <td>0.71</td>\n",
       "      <td>Basic</td>\n",
       "      <td>0</td>\n",
       "      <td>1</td>\n",
       "      <td>0</td>\n",
       "      <td>0</td>\n",
       "      <td>2</td>\n",
       "      <td>2</td>\n",
       "      <td>0</td>\n",
       "    </tr>\n",
       "    <tr>\n",
       "      <th>95</th>\n",
       "      <td>12-test3_2020_03_04_03_37_19_327556.sb3</td>\n",
       "      <td>5</td>\n",
       "      <td>0.71</td>\n",
       "      <td>Basic</td>\n",
       "      <td>0</td>\n",
       "      <td>1</td>\n",
       "      <td>0</td>\n",
       "      <td>0</td>\n",
       "      <td>2</td>\n",
       "      <td>2</td>\n",
       "      <td>0</td>\n",
       "    </tr>\n",
       "    <tr>\n",
       "      <th>96</th>\n",
       "      <td>12-test3_2020_04_13_10_16_20_702845.sb3</td>\n",
       "      <td>5</td>\n",
       "      <td>0.71</td>\n",
       "      <td>Basic</td>\n",
       "      <td>0</td>\n",
       "      <td>1</td>\n",
       "      <td>0</td>\n",
       "      <td>0</td>\n",
       "      <td>2</td>\n",
       "      <td>2</td>\n",
       "      <td>0</td>\n",
       "    </tr>\n",
       "    <tr>\n",
       "      <th>97</th>\n",
       "      <td>12-test3_2020_04_15_06_21_23_44209.sb3</td>\n",
       "      <td>6</td>\n",
       "      <td>0.86</td>\n",
       "      <td>Basic</td>\n",
       "      <td>0</td>\n",
       "      <td>1</td>\n",
       "      <td>0</td>\n",
       "      <td>1</td>\n",
       "      <td>2</td>\n",
       "      <td>2</td>\n",
       "      <td>0</td>\n",
       "    </tr>\n",
       "    <tr>\n",
       "      <th>98</th>\n",
       "      <td>12-test3_2020_04_15_08_46_20_551519.sb3</td>\n",
       "      <td>5</td>\n",
       "      <td>0.71</td>\n",
       "      <td>Basic</td>\n",
       "      <td>0</td>\n",
       "      <td>1</td>\n",
       "      <td>0</td>\n",
       "      <td>0</td>\n",
       "      <td>2</td>\n",
       "      <td>2</td>\n",
       "      <td>0</td>\n",
       "    </tr>\n",
       "    <tr>\n",
       "      <th>99</th>\n",
       "      <td>12-test3_2020_04_15_09_07_57_313111.sb3</td>\n",
       "      <td>5</td>\n",
       "      <td>0.71</td>\n",
       "      <td>Basic</td>\n",
       "      <td>0</td>\n",
       "      <td>1</td>\n",
       "      <td>0</td>\n",
       "      <td>0</td>\n",
       "      <td>2</td>\n",
       "      <td>2</td>\n",
       "      <td>0</td>\n",
       "    </tr>\n",
       "  </tbody>\n",
       "</table>\n",
       "</div>"
      ],
      "text/plain": [
       "                                      Project  Total  Average  Level  \\\n",
       "0     12002214_2019_11_27_14_26_43_941914.sb3      0     0.00  Basic   \n",
       "4    120406791_2020_10_04_06_51_35_316448.sb3      5     0.71  Basic   \n",
       "7    120534515_2020_03_29_21_45_24_871377.sb3      0     0.00  Basic   \n",
       "12    12115110_2020_01_08_20_14_14_558772.sb3      0     0.00  Basic   \n",
       "13    12115110_2020_01_08_20_14_28_244141.sb3      0     0.00  Basic   \n",
       "15   121180931_2020_10_28_18_25_00_679248.sb3      0     0.00  Basic   \n",
       "20   121595381_2021_02_01_12_18_25_550087.sb3      7     1.00  Basic   \n",
       "23   121712839_2020_01_17_11_37_54_207556.sb3      0     0.00  Basic   \n",
       "24   121712839_2020_01_17_11_38_07_079322.sb3      0     0.00  Basic   \n",
       "25   121712839_2020_01_17_11_38_33_619453.sb3      0     0.00  Basic   \n",
       "26   121712839_2020_01_17_11_38_55_455840.sb3      0     0.00  Basic   \n",
       "27    12180048_2020_01_16_15_59_04_292218.sb3      0     0.00  Basic   \n",
       "28    12180048_2020_01_16_15_59_17_540331.sb3      0     0.00  Basic   \n",
       "36   122322780_2019_10_28_13_44_28_177364.sb3      0     0.00  Basic   \n",
       "46   123259467_2020_03_29_22_08_17_838940.sb3      0     0.00  Basic   \n",
       "48   123355627_2019_11_19_14_22_42_147655.sb3      0     0.00  Basic   \n",
       "49   123355627_2019_11_19_14_22_52_525660.sb3      0     0.00  Basic   \n",
       "74  1234567890_2020_02_26_08_37_16_715808.sb3      0     0.00  Basic   \n",
       "75   123456789_2020_03_06_16_05_06_943651.sb3      0     0.00  Basic   \n",
       "76   123456789_2020_04_26_16_00_22_365850.sb3      0     0.00  Basic   \n",
       "90    12-test1_2020_02_25_03_22_34_657729.sb3      4     0.57  Basic   \n",
       "91    12-test1_2020_04_15_09_31_47_478195.sb3      4     0.57  Basic   \n",
       "92    12-test1_2020_04_15_09_47_06_291802.sb3      4     0.57  Basic   \n",
       "93    12-test1_2020_04_15_11_12_53_996106.sb3      5     0.71  Basic   \n",
       "94    12-test3_2020_03_03_03_32_55_409735.sb3      5     0.71  Basic   \n",
       "95    12-test3_2020_03_04_03_37_19_327556.sb3      5     0.71  Basic   \n",
       "96    12-test3_2020_04_13_10_16_20_702845.sb3      5     0.71  Basic   \n",
       "97     12-test3_2020_04_15_06_21_23_44209.sb3      6     0.86  Basic   \n",
       "98    12-test3_2020_04_15_08_46_20_551519.sb3      5     0.71  Basic   \n",
       "99    12-test3_2020_04_15_09_07_57_313111.sb3      5     0.71  Basic   \n",
       "\n",
       "    Abstraction  Parallelization  Logic  Synchronization  Flow Control  \\\n",
       "0             0                0      0                0             0   \n",
       "4             0                2      0                1             1   \n",
       "7             0                0      0                0             0   \n",
       "12            0                0      0                0             0   \n",
       "13            0                0      0                0             0   \n",
       "15            0                0      0                0             0   \n",
       "20            0                2      0                1             1   \n",
       "23            0                0      0                0             0   \n",
       "24            0                0      0                0             0   \n",
       "25            0                0      0                0             0   \n",
       "26            0                0      0                0             0   \n",
       "27            0                0      0                0             0   \n",
       "28            0                0      0                0             0   \n",
       "36            0                0      0                0             0   \n",
       "46            0                0      0                0             0   \n",
       "48            0                0      0                0             0   \n",
       "49            0                0      0                0             0   \n",
       "74            0                0      0                0             0   \n",
       "75            0                0      0                0             0   \n",
       "76            0                0      0                0             0   \n",
       "90            0                2      0                0             1   \n",
       "91            0                2      0                0             1   \n",
       "92            0                2      0                0             1   \n",
       "93            0                2      0                1             1   \n",
       "94            0                1      0                0             2   \n",
       "95            0                1      0                0             2   \n",
       "96            0                1      0                0             2   \n",
       "97            0                1      0                1             2   \n",
       "98            0                1      0                0             2   \n",
       "99            0                1      0                0             2   \n",
       "\n",
       "    UserInteractivity  DataRepresentation  \n",
       "0                   0                   0  \n",
       "4                   1                   0  \n",
       "7                   0                   0  \n",
       "12                  0                   0  \n",
       "13                  0                   0  \n",
       "15                  0                   0  \n",
       "20                  2                   1  \n",
       "23                  0                   0  \n",
       "24                  0                   0  \n",
       "25                  0                   0  \n",
       "26                  0                   0  \n",
       "27                  0                   0  \n",
       "28                  0                   0  \n",
       "36                  0                   0  \n",
       "46                  0                   0  \n",
       "48                  0                   0  \n",
       "49                  0                   0  \n",
       "74                  0                   0  \n",
       "75                  0                   0  \n",
       "76                  0                   0  \n",
       "90                  1                   0  \n",
       "91                  1                   0  \n",
       "92                  1                   0  \n",
       "93                  1                   0  \n",
       "94                  2                   0  \n",
       "95                  2                   0  \n",
       "96                  2                   0  \n",
       "97                  2                   0  \n",
       "98                  2                   0  \n",
       "99                  2                   0  "
      ]
     },
     "execution_count": 19,
     "metadata": {},
     "output_type": "execute_result"
    }
   ],
   "source": [
    "filt = df_analyzer['Level'].str.contains('Basic', na=False)\n",
    "df_analyzer.loc[filt]"
   ]
  },
  {
   "cell_type": "markdown",
   "id": "2fc449af",
   "metadata": {},
   "source": [
    "Ahora se extrae el nº total de proyectos almacenados con puntuación total de 0."
   ]
  },
  {
   "cell_type": "code",
   "execution_count": 20,
   "id": "1f8e8107",
   "metadata": {},
   "outputs": [
    {
     "data": {
      "text/plain": [
       "18"
      ]
     },
     "execution_count": 20,
     "metadata": {},
     "output_type": "execute_result"
    }
   ],
   "source": [
    "# Proyectos con puntuación total 0\n",
    "sum(df_analyzer.Total==0)"
   ]
  },
  {
   "cell_type": "markdown",
   "id": "7721a92a",
   "metadata": {},
   "source": [
    "De este modo, solo seleccionamos algunas de las columnas."
   ]
  },
  {
   "cell_type": "code",
   "execution_count": 21,
   "id": "323a8e5b",
   "metadata": {},
   "outputs": [
    {
     "data": {
      "text/html": [
       "<div>\n",
       "<style scoped>\n",
       "    .dataframe tbody tr th:only-of-type {\n",
       "        vertical-align: middle;\n",
       "    }\n",
       "\n",
       "    .dataframe tbody tr th {\n",
       "        vertical-align: top;\n",
       "    }\n",
       "\n",
       "    .dataframe thead th {\n",
       "        text-align: right;\n",
       "    }\n",
       "</style>\n",
       "<table border=\"1\" class=\"dataframe\">\n",
       "  <thead>\n",
       "    <tr style=\"text-align: right;\">\n",
       "      <th></th>\n",
       "      <th>Abstraction</th>\n",
       "      <th>DataRepresentation</th>\n",
       "    </tr>\n",
       "  </thead>\n",
       "  <tbody>\n",
       "    <tr>\n",
       "      <th>0</th>\n",
       "      <td>0</td>\n",
       "      <td>0</td>\n",
       "    </tr>\n",
       "    <tr>\n",
       "      <th>1</th>\n",
       "      <td>1</td>\n",
       "      <td>3</td>\n",
       "    </tr>\n",
       "    <tr>\n",
       "      <th>2</th>\n",
       "      <td>3</td>\n",
       "      <td>1</td>\n",
       "    </tr>\n",
       "    <tr>\n",
       "      <th>3</th>\n",
       "      <td>3</td>\n",
       "      <td>3</td>\n",
       "    </tr>\n",
       "    <tr>\n",
       "      <th>4</th>\n",
       "      <td>0</td>\n",
       "      <td>0</td>\n",
       "    </tr>\n",
       "    <tr>\n",
       "      <th>5</th>\n",
       "      <td>1</td>\n",
       "      <td>3</td>\n",
       "    </tr>\n",
       "    <tr>\n",
       "      <th>6</th>\n",
       "      <td>1</td>\n",
       "      <td>3</td>\n",
       "    </tr>\n",
       "    <tr>\n",
       "      <th>7</th>\n",
       "      <td>0</td>\n",
       "      <td>0</td>\n",
       "    </tr>\n",
       "    <tr>\n",
       "      <th>8</th>\n",
       "      <td>3</td>\n",
       "      <td>2</td>\n",
       "    </tr>\n",
       "    <tr>\n",
       "      <th>9</th>\n",
       "      <td>3</td>\n",
       "      <td>3</td>\n",
       "    </tr>\n",
       "    <tr>\n",
       "      <th>10</th>\n",
       "      <td>3</td>\n",
       "      <td>3</td>\n",
       "    </tr>\n",
       "  </tbody>\n",
       "</table>\n",
       "</div>"
      ],
      "text/plain": [
       "    Abstraction  DataRepresentation\n",
       "0             0                   0\n",
       "1             1                   3\n",
       "2             3                   1\n",
       "3             3                   3\n",
       "4             0                   0\n",
       "5             1                   3\n",
       "6             1                   3\n",
       "7             0                   0\n",
       "8             3                   2\n",
       "9             3                   3\n",
       "10            3                   3"
      ]
     },
     "execution_count": 21,
     "metadata": {},
     "output_type": "execute_result"
    }
   ],
   "source": [
    "df_analyzer.loc[:10, [\"Abstraction\",\"DataRepresentation\"]]"
   ]
  },
  {
   "cell_type": "markdown",
   "id": "8d63e3b9",
   "metadata": {},
   "source": [
    "Para visualizar los proyectos que cuentan con una paralelización = 3. Del mismo modo se podría hacer para cada CT y puntuación."
   ]
  },
  {
   "cell_type": "code",
   "execution_count": 22,
   "id": "392e0b3c",
   "metadata": {},
   "outputs": [
    {
     "data": {
      "text/html": [
       "<div>\n",
       "<style scoped>\n",
       "    .dataframe tbody tr th:only-of-type {\n",
       "        vertical-align: middle;\n",
       "    }\n",
       "\n",
       "    .dataframe tbody tr th {\n",
       "        vertical-align: top;\n",
       "    }\n",
       "\n",
       "    .dataframe thead th {\n",
       "        text-align: right;\n",
       "    }\n",
       "</style>\n",
       "<table border=\"1\" class=\"dataframe\">\n",
       "  <thead>\n",
       "    <tr style=\"text-align: right;\">\n",
       "      <th></th>\n",
       "      <th>Project</th>\n",
       "      <th>Total</th>\n",
       "      <th>Average</th>\n",
       "      <th>Level</th>\n",
       "      <th>Abstraction</th>\n",
       "      <th>Parallelization</th>\n",
       "      <th>Logic</th>\n",
       "      <th>Synchronization</th>\n",
       "      <th>Flow Control</th>\n",
       "      <th>UserInteractivity</th>\n",
       "      <th>DataRepresentation</th>\n",
       "    </tr>\n",
       "  </thead>\n",
       "  <tbody>\n",
       "    <tr>\n",
       "      <th>2</th>\n",
       "      <td>1202324_2020_06_16_08_40_16_613045.sb3</td>\n",
       "      <td>14</td>\n",
       "      <td>2.00</td>\n",
       "      <td>Developing</td>\n",
       "      <td>3</td>\n",
       "      <td>3</td>\n",
       "      <td>2</td>\n",
       "      <td>1</td>\n",
       "      <td>2</td>\n",
       "      <td>2</td>\n",
       "      <td>1</td>\n",
       "    </tr>\n",
       "    <tr>\n",
       "      <th>3</th>\n",
       "      <td>12027518_2021_01_13_13_37_57_574946.sb3</td>\n",
       "      <td>18</td>\n",
       "      <td>2.57</td>\n",
       "      <td>Proficiency</td>\n",
       "      <td>3</td>\n",
       "      <td>3</td>\n",
       "      <td>3</td>\n",
       "      <td>1</td>\n",
       "      <td>3</td>\n",
       "      <td>2</td>\n",
       "      <td>3</td>\n",
       "    </tr>\n",
       "    <tr>\n",
       "      <th>8</th>\n",
       "      <td>1208699_2020_05_19_01_18_19_238119.sb3</td>\n",
       "      <td>17</td>\n",
       "      <td>2.43</td>\n",
       "      <td>Proficiency</td>\n",
       "      <td>3</td>\n",
       "      <td>3</td>\n",
       "      <td>3</td>\n",
       "      <td>1</td>\n",
       "      <td>3</td>\n",
       "      <td>2</td>\n",
       "      <td>2</td>\n",
       "    </tr>\n",
       "    <tr>\n",
       "      <th>21</th>\n",
       "      <td>121658969_2021_05_25_17_42_00_468328.sb3</td>\n",
       "      <td>16</td>\n",
       "      <td>2.29</td>\n",
       "      <td>Proficiency</td>\n",
       "      <td>3</td>\n",
       "      <td>3</td>\n",
       "      <td>2</td>\n",
       "      <td>1</td>\n",
       "      <td>2</td>\n",
       "      <td>2</td>\n",
       "      <td>3</td>\n",
       "    </tr>\n",
       "    <tr>\n",
       "      <th>22</th>\n",
       "      <td>121658969_2021_05_25_21_26_56_760288.sb3</td>\n",
       "      <td>16</td>\n",
       "      <td>2.29</td>\n",
       "      <td>Proficiency</td>\n",
       "      <td>3</td>\n",
       "      <td>3</td>\n",
       "      <td>2</td>\n",
       "      <td>1</td>\n",
       "      <td>2</td>\n",
       "      <td>2</td>\n",
       "      <td>3</td>\n",
       "    </tr>\n",
       "    <tr>\n",
       "      <th>40</th>\n",
       "      <td>122770615_2020_02_13_08_46_31_801452.sb3</td>\n",
       "      <td>14</td>\n",
       "      <td>2.00</td>\n",
       "      <td>Developing</td>\n",
       "      <td>2</td>\n",
       "      <td>3</td>\n",
       "      <td>3</td>\n",
       "      <td>1</td>\n",
       "      <td>2</td>\n",
       "      <td>2</td>\n",
       "      <td>1</td>\n",
       "    </tr>\n",
       "    <tr>\n",
       "      <th>41</th>\n",
       "      <td>122770615_2020_02_20_01_32_33_815862.sb3</td>\n",
       "      <td>14</td>\n",
       "      <td>2.00</td>\n",
       "      <td>Developing</td>\n",
       "      <td>2</td>\n",
       "      <td>3</td>\n",
       "      <td>3</td>\n",
       "      <td>1</td>\n",
       "      <td>2</td>\n",
       "      <td>2</td>\n",
       "      <td>1</td>\n",
       "    </tr>\n",
       "    <tr>\n",
       "      <th>42</th>\n",
       "      <td>122770615_2020_02_20_15_11_56_406221.sb3</td>\n",
       "      <td>14</td>\n",
       "      <td>2.00</td>\n",
       "      <td>Developing</td>\n",
       "      <td>2</td>\n",
       "      <td>3</td>\n",
       "      <td>3</td>\n",
       "      <td>1</td>\n",
       "      <td>2</td>\n",
       "      <td>2</td>\n",
       "      <td>1</td>\n",
       "    </tr>\n",
       "    <tr>\n",
       "      <th>43</th>\n",
       "      <td>123142330_2020_03_02_14_38_01_469193.sb3</td>\n",
       "      <td>18</td>\n",
       "      <td>2.57</td>\n",
       "      <td>Proficiency</td>\n",
       "      <td>3</td>\n",
       "      <td>3</td>\n",
       "      <td>2</td>\n",
       "      <td>3</td>\n",
       "      <td>2</td>\n",
       "      <td>2</td>\n",
       "      <td>3</td>\n",
       "    </tr>\n",
       "    <tr>\n",
       "      <th>45</th>\n",
       "      <td>123259467_2019_12_24_06_14_24_921337.sb3</td>\n",
       "      <td>19</td>\n",
       "      <td>2.71</td>\n",
       "      <td>Proficiency</td>\n",
       "      <td>3</td>\n",
       "      <td>3</td>\n",
       "      <td>3</td>\n",
       "      <td>2</td>\n",
       "      <td>3</td>\n",
       "      <td>2</td>\n",
       "      <td>3</td>\n",
       "    </tr>\n",
       "    <tr>\n",
       "      <th>47</th>\n",
       "      <td>123283787_2019_10_15_09_30_34_49036.sb3</td>\n",
       "      <td>15</td>\n",
       "      <td>2.14</td>\n",
       "      <td>Proficiency</td>\n",
       "      <td>3</td>\n",
       "      <td>3</td>\n",
       "      <td>1</td>\n",
       "      <td>3</td>\n",
       "      <td>2</td>\n",
       "      <td>2</td>\n",
       "      <td>1</td>\n",
       "    </tr>\n",
       "    <tr>\n",
       "      <th>59</th>\n",
       "      <td>12345_2019_11_11_09_32_33_305148.sb3</td>\n",
       "      <td>16</td>\n",
       "      <td>2.29</td>\n",
       "      <td>Proficiency</td>\n",
       "      <td>2</td>\n",
       "      <td>3</td>\n",
       "      <td>3</td>\n",
       "      <td>1</td>\n",
       "      <td>2</td>\n",
       "      <td>2</td>\n",
       "      <td>3</td>\n",
       "    </tr>\n",
       "    <tr>\n",
       "      <th>73</th>\n",
       "      <td>123456_2020_05_25_05_58_57_209950.sb3</td>\n",
       "      <td>16</td>\n",
       "      <td>2.29</td>\n",
       "      <td>Proficiency</td>\n",
       "      <td>3</td>\n",
       "      <td>3</td>\n",
       "      <td>2</td>\n",
       "      <td>2</td>\n",
       "      <td>3</td>\n",
       "      <td>2</td>\n",
       "      <td>1</td>\n",
       "    </tr>\n",
       "    <tr>\n",
       "      <th>77</th>\n",
       "      <td>123556037_2021_04_27_15_51_33_854940.sb3</td>\n",
       "      <td>16</td>\n",
       "      <td>2.29</td>\n",
       "      <td>Proficiency</td>\n",
       "      <td>2</td>\n",
       "      <td>3</td>\n",
       "      <td>3</td>\n",
       "      <td>3</td>\n",
       "      <td>2</td>\n",
       "      <td>2</td>\n",
       "      <td>1</td>\n",
       "    </tr>\n",
       "    <tr>\n",
       "      <th>78</th>\n",
       "      <td>123606334_2020_09_22_15_32_52_890301.sb3</td>\n",
       "      <td>16</td>\n",
       "      <td>2.29</td>\n",
       "      <td>Proficiency</td>\n",
       "      <td>3</td>\n",
       "      <td>3</td>\n",
       "      <td>3</td>\n",
       "      <td>1</td>\n",
       "      <td>2</td>\n",
       "      <td>2</td>\n",
       "      <td>2</td>\n",
       "    </tr>\n",
       "    <tr>\n",
       "      <th>79</th>\n",
       "      <td>123606334_2020_10_04_01_26_41_224441.sb3</td>\n",
       "      <td>16</td>\n",
       "      <td>2.29</td>\n",
       "      <td>Proficiency</td>\n",
       "      <td>3</td>\n",
       "      <td>3</td>\n",
       "      <td>3</td>\n",
       "      <td>1</td>\n",
       "      <td>2</td>\n",
       "      <td>2</td>\n",
       "      <td>2</td>\n",
       "    </tr>\n",
       "    <tr>\n",
       "      <th>80</th>\n",
       "      <td>123606334_2020_11_05_19_34_11_972071.sb3</td>\n",
       "      <td>16</td>\n",
       "      <td>2.29</td>\n",
       "      <td>Proficiency</td>\n",
       "      <td>3</td>\n",
       "      <td>3</td>\n",
       "      <td>3</td>\n",
       "      <td>1</td>\n",
       "      <td>2</td>\n",
       "      <td>2</td>\n",
       "      <td>2</td>\n",
       "    </tr>\n",
       "    <tr>\n",
       "      <th>81</th>\n",
       "      <td>123606334_2020_12_13_03_51_17_698768.sb3</td>\n",
       "      <td>16</td>\n",
       "      <td>2.29</td>\n",
       "      <td>Proficiency</td>\n",
       "      <td>3</td>\n",
       "      <td>3</td>\n",
       "      <td>3</td>\n",
       "      <td>1</td>\n",
       "      <td>2</td>\n",
       "      <td>2</td>\n",
       "      <td>2</td>\n",
       "    </tr>\n",
       "  </tbody>\n",
       "</table>\n",
       "</div>"
      ],
      "text/plain": [
       "                                     Project  Total  Average        Level  \\\n",
       "2     1202324_2020_06_16_08_40_16_613045.sb3     14     2.00   Developing   \n",
       "3    12027518_2021_01_13_13_37_57_574946.sb3     18     2.57  Proficiency   \n",
       "8     1208699_2020_05_19_01_18_19_238119.sb3     17     2.43  Proficiency   \n",
       "21  121658969_2021_05_25_17_42_00_468328.sb3     16     2.29  Proficiency   \n",
       "22  121658969_2021_05_25_21_26_56_760288.sb3     16     2.29  Proficiency   \n",
       "40  122770615_2020_02_13_08_46_31_801452.sb3     14     2.00   Developing   \n",
       "41  122770615_2020_02_20_01_32_33_815862.sb3     14     2.00   Developing   \n",
       "42  122770615_2020_02_20_15_11_56_406221.sb3     14     2.00   Developing   \n",
       "43  123142330_2020_03_02_14_38_01_469193.sb3     18     2.57  Proficiency   \n",
       "45  123259467_2019_12_24_06_14_24_921337.sb3     19     2.71  Proficiency   \n",
       "47   123283787_2019_10_15_09_30_34_49036.sb3     15     2.14  Proficiency   \n",
       "59      12345_2019_11_11_09_32_33_305148.sb3     16     2.29  Proficiency   \n",
       "73     123456_2020_05_25_05_58_57_209950.sb3     16     2.29  Proficiency   \n",
       "77  123556037_2021_04_27_15_51_33_854940.sb3     16     2.29  Proficiency   \n",
       "78  123606334_2020_09_22_15_32_52_890301.sb3     16     2.29  Proficiency   \n",
       "79  123606334_2020_10_04_01_26_41_224441.sb3     16     2.29  Proficiency   \n",
       "80  123606334_2020_11_05_19_34_11_972071.sb3     16     2.29  Proficiency   \n",
       "81  123606334_2020_12_13_03_51_17_698768.sb3     16     2.29  Proficiency   \n",
       "\n",
       "    Abstraction  Parallelization  Logic  Synchronization  Flow Control  \\\n",
       "2             3                3      2                1             2   \n",
       "3             3                3      3                1             3   \n",
       "8             3                3      3                1             3   \n",
       "21            3                3      2                1             2   \n",
       "22            3                3      2                1             2   \n",
       "40            2                3      3                1             2   \n",
       "41            2                3      3                1             2   \n",
       "42            2                3      3                1             2   \n",
       "43            3                3      2                3             2   \n",
       "45            3                3      3                2             3   \n",
       "47            3                3      1                3             2   \n",
       "59            2                3      3                1             2   \n",
       "73            3                3      2                2             3   \n",
       "77            2                3      3                3             2   \n",
       "78            3                3      3                1             2   \n",
       "79            3                3      3                1             2   \n",
       "80            3                3      3                1             2   \n",
       "81            3                3      3                1             2   \n",
       "\n",
       "    UserInteractivity  DataRepresentation  \n",
       "2                   2                   1  \n",
       "3                   2                   3  \n",
       "8                   2                   2  \n",
       "21                  2                   3  \n",
       "22                  2                   3  \n",
       "40                  2                   1  \n",
       "41                  2                   1  \n",
       "42                  2                   1  \n",
       "43                  2                   3  \n",
       "45                  2                   3  \n",
       "47                  2                   1  \n",
       "59                  2                   3  \n",
       "73                  2                   1  \n",
       "77                  2                   1  \n",
       "78                  2                   2  \n",
       "79                  2                   2  \n",
       "80                  2                   2  \n",
       "81                  2                   2  "
      ]
     },
     "execution_count": 22,
     "metadata": {},
     "output_type": "execute_result"
    }
   ],
   "source": [
    "df = df_analyzer.groupby([\"Parallelization\"])\n",
    "df.get_group(3)"
   ]
  },
  {
   "cell_type": "markdown",
   "id": "114d4f5c",
   "metadata": {},
   "source": [
    "Para filtrar haciendo que cada CT cumpla determinadas condiciones se procede:"
   ]
  },
  {
   "cell_type": "code",
   "execution_count": 23,
   "id": "e5990316",
   "metadata": {},
   "outputs": [
    {
     "data": {
      "text/plain": [
       "0     False\n",
       "1      True\n",
       "2     False\n",
       "3     False\n",
       "4     False\n",
       "      ...  \n",
       "95    False\n",
       "96    False\n",
       "97    False\n",
       "98    False\n",
       "99    False\n",
       "Length: 100, dtype: bool"
      ]
     },
     "execution_count": 23,
     "metadata": {},
     "output_type": "execute_result"
    }
   ],
   "source": [
    "((df_analyzer[\"Logic\"]>2)&(df_analyzer[\"Parallelization\"]<=2))"
   ]
  },
  {
   "cell_type": "markdown",
   "id": "e53d4cd9",
   "metadata": {},
   "source": [
    "Para ver la puntuación obtenida para cada CT y obtener su distribución se realiza lo siguiente."
   ]
  },
  {
   "cell_type": "code",
   "execution_count": 24,
   "id": "f890225a",
   "metadata": {},
   "outputs": [
    {
     "data": {
      "text/plain": [
       "0    35\n",
       "1    28\n",
       "3    28\n",
       "2     9\n",
       "Name: Abstraction, dtype: int64"
      ]
     },
     "execution_count": 24,
     "metadata": {},
     "output_type": "execute_result"
    }
   ],
   "source": [
    "df_analyzer[\"Abstraction\"].value_counts(ascending=False)"
   ]
  },
  {
   "cell_type": "code",
   "execution_count": 25,
   "id": "7a226234",
   "metadata": {},
   "outputs": [
    {
     "data": {
      "text/plain": [
       "array([[<AxesSubplot:title={'center':'Abstraction'}>]], dtype=object)"
      ]
     },
     "execution_count": 25,
     "metadata": {},
     "output_type": "execute_result"
    },
    {
     "data": {
      "image/png": "[encoded data removed]",
      "text/plain": [
       "<Figure size 288x288 with 1 Axes>"
      ]
     },
     "metadata": {
      "needs_background": "light"
     },
     "output_type": "display_data"
    }
   ],
   "source": [
    "df_analyzer.hist(bins=4,column=\"Abstraction\",figsize=(4,4))"
   ]
  },
  {
   "cell_type": "code",
   "execution_count": 26,
   "id": "97dad786",
   "metadata": {},
   "outputs": [
    {
     "data": {
      "text/plain": [
       "<AxesSubplot:xlabel='Abstraction', ylabel='Count'>"
      ]
     },
     "execution_count": 26,
     "metadata": {},
     "output_type": "execute_result"
    },
    {
     "data": {
      "image/png": "[encoded data removed]",
      "text/plain": [
       "<Figure size 432x288 with 1 Axes>"
      ]
     },
     "metadata": {
      "needs_background": "light"
     },
     "output_type": "display_data"
    }
   ],
   "source": [
    "sns.histplot(df_analyzer[\"Abstraction\"])"
   ]
  },
  {
   "cell_type": "markdown",
   "id": "a23ee89d",
   "metadata": {},
   "source": [
    "En estos caso vemos la distribución de abstracción y lógica con respecto a los puntos obtenidos. Se procede de manera similar para cada CT."
   ]
  },
  {
   "cell_type": "code",
   "execution_count": 27,
   "id": "6191c28e",
   "metadata": {},
   "outputs": [
    {
     "data": {
      "text/plain": [
       "<seaborn.axisgrid.FacetGrid at 0x7f390fa76a30>"
      ]
     },
     "execution_count": 27,
     "metadata": {},
     "output_type": "execute_result"
    },
    {
     "data": {
      "image/png": "[encoded data removed]",
      "text/plain": [
       "<Figure size 360x360 with 1 Axes>"
      ]
     },
     "metadata": {
      "needs_background": "light"
     },
     "output_type": "display_data"
    }
   ],
   "source": [
    "sns.displot(df_analyzer[\"Logic\"],kde=True)"
   ]
  },
  {
   "cell_type": "code",
   "execution_count": 28,
   "id": "b275c762",
   "metadata": {},
   "outputs": [
    {
     "data": {
      "text/html": [
       "<div>\n",
       "<style scoped>\n",
       "    .dataframe tbody tr th:only-of-type {\n",
       "        vertical-align: middle;\n",
       "    }\n",
       "\n",
       "    .dataframe tbody tr th {\n",
       "        vertical-align: top;\n",
       "    }\n",
       "\n",
       "    .dataframe thead th {\n",
       "        text-align: right;\n",
       "    }\n",
       "</style>\n",
       "<table border=\"1\" class=\"dataframe\">\n",
       "  <thead>\n",
       "    <tr style=\"text-align: right;\">\n",
       "      <th></th>\n",
       "      <th>Total</th>\n",
       "      <th>Average</th>\n",
       "      <th>Abstraction</th>\n",
       "      <th>Parallelization</th>\n",
       "      <th>Logic</th>\n",
       "      <th>Synchronization</th>\n",
       "      <th>Flow Control</th>\n",
       "      <th>UserInteractivity</th>\n",
       "      <th>DataRepresentation</th>\n",
       "    </tr>\n",
       "  </thead>\n",
       "  <tbody>\n",
       "    <tr>\n",
       "      <th>0</th>\n",
       "      <td>0</td>\n",
       "      <td>0.00</td>\n",
       "      <td>0</td>\n",
       "      <td>0</td>\n",
       "      <td>0</td>\n",
       "      <td>0</td>\n",
       "      <td>0</td>\n",
       "      <td>0</td>\n",
       "      <td>0</td>\n",
       "    </tr>\n",
       "    <tr>\n",
       "      <th>1</th>\n",
       "      <td>13</td>\n",
       "      <td>1.86</td>\n",
       "      <td>1</td>\n",
       "      <td>2</td>\n",
       "      <td>3</td>\n",
       "      <td>1</td>\n",
       "      <td>1</td>\n",
       "      <td>2</td>\n",
       "      <td>3</td>\n",
       "    </tr>\n",
       "    <tr>\n",
       "      <th>2</th>\n",
       "      <td>14</td>\n",
       "      <td>2.00</td>\n",
       "      <td>3</td>\n",
       "      <td>3</td>\n",
       "      <td>2</td>\n",
       "      <td>1</td>\n",
       "      <td>2</td>\n",
       "      <td>2</td>\n",
       "      <td>1</td>\n",
       "    </tr>\n",
       "    <tr>\n",
       "      <th>3</th>\n",
       "      <td>18</td>\n",
       "      <td>2.57</td>\n",
       "      <td>3</td>\n",
       "      <td>3</td>\n",
       "      <td>3</td>\n",
       "      <td>1</td>\n",
       "      <td>3</td>\n",
       "      <td>2</td>\n",
       "      <td>3</td>\n",
       "    </tr>\n",
       "    <tr>\n",
       "      <th>4</th>\n",
       "      <td>5</td>\n",
       "      <td>0.71</td>\n",
       "      <td>0</td>\n",
       "      <td>2</td>\n",
       "      <td>0</td>\n",
       "      <td>1</td>\n",
       "      <td>1</td>\n",
       "      <td>1</td>\n",
       "      <td>0</td>\n",
       "    </tr>\n",
       "    <tr>\n",
       "      <th>...</th>\n",
       "      <td>...</td>\n",
       "      <td>...</td>\n",
       "      <td>...</td>\n",
       "      <td>...</td>\n",
       "      <td>...</td>\n",
       "      <td>...</td>\n",
       "      <td>...</td>\n",
       "      <td>...</td>\n",
       "      <td>...</td>\n",
       "    </tr>\n",
       "    <tr>\n",
       "      <th>95</th>\n",
       "      <td>5</td>\n",
       "      <td>0.71</td>\n",
       "      <td>0</td>\n",
       "      <td>1</td>\n",
       "      <td>0</td>\n",
       "      <td>0</td>\n",
       "      <td>2</td>\n",
       "      <td>2</td>\n",
       "      <td>0</td>\n",
       "    </tr>\n",
       "    <tr>\n",
       "      <th>96</th>\n",
       "      <td>5</td>\n",
       "      <td>0.71</td>\n",
       "      <td>0</td>\n",
       "      <td>1</td>\n",
       "      <td>0</td>\n",
       "      <td>0</td>\n",
       "      <td>2</td>\n",
       "      <td>2</td>\n",
       "      <td>0</td>\n",
       "    </tr>\n",
       "    <tr>\n",
       "      <th>97</th>\n",
       "      <td>6</td>\n",
       "      <td>0.86</td>\n",
       "      <td>0</td>\n",
       "      <td>1</td>\n",
       "      <td>0</td>\n",
       "      <td>1</td>\n",
       "      <td>2</td>\n",
       "      <td>2</td>\n",
       "      <td>0</td>\n",
       "    </tr>\n",
       "    <tr>\n",
       "      <th>98</th>\n",
       "      <td>5</td>\n",
       "      <td>0.71</td>\n",
       "      <td>0</td>\n",
       "      <td>1</td>\n",
       "      <td>0</td>\n",
       "      <td>0</td>\n",
       "      <td>2</td>\n",
       "      <td>2</td>\n",
       "      <td>0</td>\n",
       "    </tr>\n",
       "    <tr>\n",
       "      <th>99</th>\n",
       "      <td>5</td>\n",
       "      <td>0.71</td>\n",
       "      <td>0</td>\n",
       "      <td>1</td>\n",
       "      <td>0</td>\n",
       "      <td>0</td>\n",
       "      <td>2</td>\n",
       "      <td>2</td>\n",
       "      <td>0</td>\n",
       "    </tr>\n",
       "  </tbody>\n",
       "</table>\n",
       "<p>100 rows × 9 columns</p>\n",
       "</div>"
      ],
      "text/plain": [
       "    Total  Average  Abstraction  Parallelization  Logic  Synchronization  \\\n",
       "0       0     0.00            0                0      0                0   \n",
       "1      13     1.86            1                2      3                1   \n",
       "2      14     2.00            3                3      2                1   \n",
       "3      18     2.57            3                3      3                1   \n",
       "4       5     0.71            0                2      0                1   \n",
       "..    ...      ...          ...              ...    ...              ...   \n",
       "95      5     0.71            0                1      0                0   \n",
       "96      5     0.71            0                1      0                0   \n",
       "97      6     0.86            0                1      0                1   \n",
       "98      5     0.71            0                1      0                0   \n",
       "99      5     0.71            0                1      0                0   \n",
       "\n",
       "    Flow Control  UserInteractivity  DataRepresentation  \n",
       "0              0                  0                   0  \n",
       "1              1                  2                   3  \n",
       "2              2                  2                   1  \n",
       "3              3                  2                   3  \n",
       "4              1                  1                   0  \n",
       "..           ...                ...                 ...  \n",
       "95             2                  2                   0  \n",
       "96             2                  2                   0  \n",
       "97             2                  2                   0  \n",
       "98             2                  2                   0  \n",
       "99             2                  2                   0  \n",
       "\n",
       "[100 rows x 9 columns]"
      ]
     },
     "execution_count": 28,
     "metadata": {},
     "output_type": "execute_result"
    }
   ],
   "source": [
    "df_analyzer.select_dtypes(include=np.number)"
   ]
  },
  {
   "cell_type": "markdown",
   "id": "e974e580",
   "metadata": {},
   "source": [
    "Para seleccionar las 7 habilidades del pensamiento computacional (CT):"
   ]
  },
  {
   "cell_type": "code",
   "execution_count": 29,
   "id": "5af18b36",
   "metadata": {},
   "outputs": [
    {
     "data": {
      "text/html": [
       "<div>\n",
       "<style scoped>\n",
       "    .dataframe tbody tr th:only-of-type {\n",
       "        vertical-align: middle;\n",
       "    }\n",
       "\n",
       "    .dataframe tbody tr th {\n",
       "        vertical-align: top;\n",
       "    }\n",
       "\n",
       "    .dataframe thead th {\n",
       "        text-align: right;\n",
       "    }\n",
       "</style>\n",
       "<table border=\"1\" class=\"dataframe\">\n",
       "  <thead>\n",
       "    <tr style=\"text-align: right;\">\n",
       "      <th></th>\n",
       "      <th>Abstraction</th>\n",
       "      <th>Parallelization</th>\n",
       "      <th>Logic</th>\n",
       "      <th>Synchronization</th>\n",
       "      <th>Flow Control</th>\n",
       "      <th>UserInteractivity</th>\n",
       "      <th>DataRepresentation</th>\n",
       "    </tr>\n",
       "  </thead>\n",
       "  <tbody>\n",
       "    <tr>\n",
       "      <th>90</th>\n",
       "      <td>0</td>\n",
       "      <td>2</td>\n",
       "      <td>0</td>\n",
       "      <td>0</td>\n",
       "      <td>1</td>\n",
       "      <td>1</td>\n",
       "      <td>0</td>\n",
       "    </tr>\n",
       "    <tr>\n",
       "      <th>91</th>\n",
       "      <td>0</td>\n",
       "      <td>2</td>\n",
       "      <td>0</td>\n",
       "      <td>0</td>\n",
       "      <td>1</td>\n",
       "      <td>1</td>\n",
       "      <td>0</td>\n",
       "    </tr>\n",
       "    <tr>\n",
       "      <th>92</th>\n",
       "      <td>0</td>\n",
       "      <td>2</td>\n",
       "      <td>0</td>\n",
       "      <td>0</td>\n",
       "      <td>1</td>\n",
       "      <td>1</td>\n",
       "      <td>0</td>\n",
       "    </tr>\n",
       "    <tr>\n",
       "      <th>93</th>\n",
       "      <td>0</td>\n",
       "      <td>2</td>\n",
       "      <td>0</td>\n",
       "      <td>1</td>\n",
       "      <td>1</td>\n",
       "      <td>1</td>\n",
       "      <td>0</td>\n",
       "    </tr>\n",
       "    <tr>\n",
       "      <th>94</th>\n",
       "      <td>0</td>\n",
       "      <td>1</td>\n",
       "      <td>0</td>\n",
       "      <td>0</td>\n",
       "      <td>2</td>\n",
       "      <td>2</td>\n",
       "      <td>0</td>\n",
       "    </tr>\n",
       "    <tr>\n",
       "      <th>95</th>\n",
       "      <td>0</td>\n",
       "      <td>1</td>\n",
       "      <td>0</td>\n",
       "      <td>0</td>\n",
       "      <td>2</td>\n",
       "      <td>2</td>\n",
       "      <td>0</td>\n",
       "    </tr>\n",
       "    <tr>\n",
       "      <th>96</th>\n",
       "      <td>0</td>\n",
       "      <td>1</td>\n",
       "      <td>0</td>\n",
       "      <td>0</td>\n",
       "      <td>2</td>\n",
       "      <td>2</td>\n",
       "      <td>0</td>\n",
       "    </tr>\n",
       "    <tr>\n",
       "      <th>97</th>\n",
       "      <td>0</td>\n",
       "      <td>1</td>\n",
       "      <td>0</td>\n",
       "      <td>1</td>\n",
       "      <td>2</td>\n",
       "      <td>2</td>\n",
       "      <td>0</td>\n",
       "    </tr>\n",
       "    <tr>\n",
       "      <th>98</th>\n",
       "      <td>0</td>\n",
       "      <td>1</td>\n",
       "      <td>0</td>\n",
       "      <td>0</td>\n",
       "      <td>2</td>\n",
       "      <td>2</td>\n",
       "      <td>0</td>\n",
       "    </tr>\n",
       "    <tr>\n",
       "      <th>99</th>\n",
       "      <td>0</td>\n",
       "      <td>1</td>\n",
       "      <td>0</td>\n",
       "      <td>0</td>\n",
       "      <td>2</td>\n",
       "      <td>2</td>\n",
       "      <td>0</td>\n",
       "    </tr>\n",
       "  </tbody>\n",
       "</table>\n",
       "</div>"
      ],
      "text/plain": [
       "    Abstraction  Parallelization  Logic  Synchronization  Flow Control  \\\n",
       "90            0                2      0                0             1   \n",
       "91            0                2      0                0             1   \n",
       "92            0                2      0                0             1   \n",
       "93            0                2      0                1             1   \n",
       "94            0                1      0                0             2   \n",
       "95            0                1      0                0             2   \n",
       "96            0                1      0                0             2   \n",
       "97            0                1      0                1             2   \n",
       "98            0                1      0                0             2   \n",
       "99            0                1      0                0             2   \n",
       "\n",
       "    UserInteractivity  DataRepresentation  \n",
       "90                  1                   0  \n",
       "91                  1                   0  \n",
       "92                  1                   0  \n",
       "93                  1                   0  \n",
       "94                  2                   0  \n",
       "95                  2                   0  \n",
       "96                  2                   0  \n",
       "97                  2                   0  \n",
       "98                  2                   0  \n",
       "99                  2                   0  "
      ]
     },
     "execution_count": 29,
     "metadata": {},
     "output_type": "execute_result"
    }
   ],
   "source": [
    "df_analyzer.iloc[-10:,4:] # Solo las últomas filas"
   ]
  },
  {
   "cell_type": "markdown",
   "id": "d1b0bd3a",
   "metadata": {},
   "source": [
    "También se puede hacer, seleccionando todas las filas:"
   ]
  },
  {
   "cell_type": "code",
   "execution_count": 30,
   "id": "d5e34e08",
   "metadata": {},
   "outputs": [
    {
     "data": {
      "text/html": [
       "<div>\n",
       "<style scoped>\n",
       "    .dataframe tbody tr th:only-of-type {\n",
       "        vertical-align: middle;\n",
       "    }\n",
       "\n",
       "    .dataframe tbody tr th {\n",
       "        vertical-align: top;\n",
       "    }\n",
       "\n",
       "    .dataframe thead th {\n",
       "        text-align: right;\n",
       "    }\n",
       "</style>\n",
       "<table border=\"1\" class=\"dataframe\">\n",
       "  <thead>\n",
       "    <tr style=\"text-align: right;\">\n",
       "      <th></th>\n",
       "      <th>Abstraction</th>\n",
       "      <th>Parallelization</th>\n",
       "      <th>Logic</th>\n",
       "      <th>Synchronization</th>\n",
       "      <th>Flow Control</th>\n",
       "      <th>UserInteractivity</th>\n",
       "      <th>DataRepresentation</th>\n",
       "    </tr>\n",
       "  </thead>\n",
       "  <tbody>\n",
       "    <tr>\n",
       "      <th>0</th>\n",
       "      <td>0</td>\n",
       "      <td>0</td>\n",
       "      <td>0</td>\n",
       "      <td>0</td>\n",
       "      <td>0</td>\n",
       "      <td>0</td>\n",
       "      <td>0</td>\n",
       "    </tr>\n",
       "    <tr>\n",
       "      <th>1</th>\n",
       "      <td>1</td>\n",
       "      <td>2</td>\n",
       "      <td>3</td>\n",
       "      <td>1</td>\n",
       "      <td>1</td>\n",
       "      <td>2</td>\n",
       "      <td>3</td>\n",
       "    </tr>\n",
       "    <tr>\n",
       "      <th>2</th>\n",
       "      <td>3</td>\n",
       "      <td>3</td>\n",
       "      <td>2</td>\n",
       "      <td>1</td>\n",
       "      <td>2</td>\n",
       "      <td>2</td>\n",
       "      <td>1</td>\n",
       "    </tr>\n",
       "    <tr>\n",
       "      <th>3</th>\n",
       "      <td>3</td>\n",
       "      <td>3</td>\n",
       "      <td>3</td>\n",
       "      <td>1</td>\n",
       "      <td>3</td>\n",
       "      <td>2</td>\n",
       "      <td>3</td>\n",
       "    </tr>\n",
       "    <tr>\n",
       "      <th>4</th>\n",
       "      <td>0</td>\n",
       "      <td>2</td>\n",
       "      <td>0</td>\n",
       "      <td>1</td>\n",
       "      <td>1</td>\n",
       "      <td>1</td>\n",
       "      <td>0</td>\n",
       "    </tr>\n",
       "    <tr>\n",
       "      <th>...</th>\n",
       "      <td>...</td>\n",
       "      <td>...</td>\n",
       "      <td>...</td>\n",
       "      <td>...</td>\n",
       "      <td>...</td>\n",
       "      <td>...</td>\n",
       "      <td>...</td>\n",
       "    </tr>\n",
       "    <tr>\n",
       "      <th>95</th>\n",
       "      <td>0</td>\n",
       "      <td>1</td>\n",
       "      <td>0</td>\n",
       "      <td>0</td>\n",
       "      <td>2</td>\n",
       "      <td>2</td>\n",
       "      <td>0</td>\n",
       "    </tr>\n",
       "    <tr>\n",
       "      <th>96</th>\n",
       "      <td>0</td>\n",
       "      <td>1</td>\n",
       "      <td>0</td>\n",
       "      <td>0</td>\n",
       "      <td>2</td>\n",
       "      <td>2</td>\n",
       "      <td>0</td>\n",
       "    </tr>\n",
       "    <tr>\n",
       "      <th>97</th>\n",
       "      <td>0</td>\n",
       "      <td>1</td>\n",
       "      <td>0</td>\n",
       "      <td>1</td>\n",
       "      <td>2</td>\n",
       "      <td>2</td>\n",
       "      <td>0</td>\n",
       "    </tr>\n",
       "    <tr>\n",
       "      <th>98</th>\n",
       "      <td>0</td>\n",
       "      <td>1</td>\n",
       "      <td>0</td>\n",
       "      <td>0</td>\n",
       "      <td>2</td>\n",
       "      <td>2</td>\n",
       "      <td>0</td>\n",
       "    </tr>\n",
       "    <tr>\n",
       "      <th>99</th>\n",
       "      <td>0</td>\n",
       "      <td>1</td>\n",
       "      <td>0</td>\n",
       "      <td>0</td>\n",
       "      <td>2</td>\n",
       "      <td>2</td>\n",
       "      <td>0</td>\n",
       "    </tr>\n",
       "  </tbody>\n",
       "</table>\n",
       "<p>100 rows × 7 columns</p>\n",
       "</div>"
      ],
      "text/plain": [
       "    Abstraction  Parallelization  Logic  Synchronization  Flow Control  \\\n",
       "0             0                0      0                0             0   \n",
       "1             1                2      3                1             1   \n",
       "2             3                3      2                1             2   \n",
       "3             3                3      3                1             3   \n",
       "4             0                2      0                1             1   \n",
       "..          ...              ...    ...              ...           ...   \n",
       "95            0                1      0                0             2   \n",
       "96            0                1      0                0             2   \n",
       "97            0                1      0                1             2   \n",
       "98            0                1      0                0             2   \n",
       "99            0                1      0                0             2   \n",
       "\n",
       "    UserInteractivity  DataRepresentation  \n",
       "0                   0                   0  \n",
       "1                   2                   3  \n",
       "2                   2                   1  \n",
       "3                   2                   3  \n",
       "4                   1                   0  \n",
       "..                ...                 ...  \n",
       "95                  2                   0  \n",
       "96                  2                   0  \n",
       "97                  2                   0  \n",
       "98                  2                   0  \n",
       "99                  2                   0  \n",
       "\n",
       "[100 rows x 7 columns]"
      ]
     },
     "execution_count": 30,
     "metadata": {},
     "output_type": "execute_result"
    }
   ],
   "source": [
    "df_ct = df_analyzer.loc[:, \"Abstraction\":\"DataRepresentation\"]\n",
    "df_ct"
   ]
  },
  {
   "cell_type": "markdown",
   "id": "4d03f6c6",
   "metadata": {},
   "source": [
    "Con ello visualizamos solo las variables numéricas del dataframe. A continuación se analiza cómo se distribuye la puntuación para cada CT."
   ]
  },
  {
   "cell_type": "code",
   "execution_count": 76,
   "id": "413cc9eb",
   "metadata": {},
   "outputs": [
    {
     "name": "stdout",
     "output_type": "stream",
     "text": [
      "<bound method IndexOpsMixin.tolist of Abstraction\n",
      "0    35\n",
      "1    28\n",
      "3    28\n",
      "2     9\n",
      "dtype: int64>\n",
      "<bound method IndexOpsMixin.tolist of Parallelization\n",
      "2    57\n",
      "0    18\n",
      "3    18\n",
      "1     7\n",
      "dtype: int64>\n",
      "<bound method IndexOpsMixin.tolist of Logic\n",
      "3    35\n",
      "0    32\n",
      "2    25\n",
      "1     8\n",
      "dtype: int64>\n",
      "<bound method IndexOpsMixin.tolist of Synchronization\n",
      "1    48\n",
      "0    26\n",
      "3    23\n",
      "2     3\n",
      "dtype: int64>\n",
      "<bound method IndexOpsMixin.tolist of Flow Control\n",
      "2    57\n",
      "1    21\n",
      "0    18\n",
      "3     4\n",
      "dtype: int64>\n",
      "<bound method IndexOpsMixin.tolist of UserInteractivity\n",
      "2    75\n",
      "0    18\n",
      "1     7\n",
      "dtype: int64>\n",
      "<bound method IndexOpsMixin.tolist of DataRepresentation\n",
      "3    37\n",
      "0    31\n",
      "1    18\n",
      "2    14\n",
      "dtype: int64>\n"
     ]
    }
   ],
   "source": [
    "df_ct = df_analyzer.loc[:, \"Abstraction\":\"DataRepresentation\"]\n",
    "for column in df_ct: \n",
    "    print(df_analyzer.value_counts(column))"
   ]
  },
  {
   "cell_type": "markdown",
   "id": "62b47fd1",
   "metadata": {},
   "source": [
    "Así podemos ver las puntuaciones para cada habilidad del pensamiento computacional. Se presentan a continuación de manera gráfica."
   ]
  },
  {
   "cell_type": "code",
   "execution_count": 87,
   "id": "f56f916b",
   "metadata": {},
   "outputs": [
    {
     "data": {
      "text/plain": [
       "<AxesSubplot:xlabel='Average', ylabel='Count'>"
      ]
     },
     "execution_count": 87,
     "metadata": {},
     "output_type": "execute_result"
    },
    {
     "data": {
      "image/png": "[encoded data removed]",
      "text/plain": [
       "<Figure size 1152x1008 with 8 Axes>"
      ]
     },
     "metadata": {
      "needs_background": "light"
     },
     "output_type": "display_data"
    }
   ],
   "source": [
    "fig, axs = plt.subplots(4, 2, figsize=(16, 14))\n",
    "sns.histplot(data=df_analyzer, x=\"Abstraction\", kde=True, color=\"skyblue\", ax=axs[0, 0])\n",
    "sns.histplot(data=df_analyzer, x=\"Parallelization\", kde=True, color=\"olive\", ax=axs[0, 1])\n",
    "sns.histplot(data=df_analyzer, x=\"Logic\", kde=True, color=\"gold\", ax=axs[1, 0])\n",
    "sns.histplot(data=df_analyzer, x=\"Synchronization\", kde=True, color=\"teal\", ax=axs[1, 1])\n",
    "sns.histplot(data=df_analyzer, x=\"Flow Control\", kde=True, color=\"blue\", ax=axs[2, 0])\n",
    "sns.histplot(data=df_analyzer, x=\"UserInteractivity\", kde=True, color=\"orange\", ax=axs[2, 1])\n",
    "sns.histplot(data=df_analyzer, x=\"DataRepresentation\", kde=True, color=\"green\", ax=axs[3, 0])\n",
    "sns.histplot(data=df_analyzer, x=\"Average\", kde=True, color=\"red\", ax=axs[3, 1])"
   ]
  },
  {
   "cell_type": "code",
   "execution_count": null,
   "id": "d133da69",
   "metadata": {},
   "outputs": [],
   "source": []
  },
  {
   "cell_type": "markdown",
   "id": "c160b668",
   "metadata": {},
   "source": [
    "# Análisis estadístico"
   ]
  },
  {
   "cell_type": "markdown",
   "id": "8d537b72",
   "metadata": {},
   "source": [
    "A continuación se procede a realizar una revisión de los estadísticos principales. Calculamos la media y la mediana como medidas de centralización."
   ]
  },
  {
   "cell_type": "code",
   "execution_count": 86,
   "id": "b46c5322",
   "metadata": {},
   "outputs": [
    {
     "data": {
      "text/plain": [
       "Total                10.52\n",
       "Average               1.50\n",
       "Abstraction           1.30\n",
       "Parallelization       1.75\n",
       "Logic                 1.63\n",
       "Synchronization       1.23\n",
       "Flow Control          1.47\n",
       "UserInteractivity     1.57\n",
       "DataRepresentation    1.57\n",
       "dtype: float64"
      ]
     },
     "execution_count": 86,
     "metadata": {},
     "output_type": "execute_result"
    }
   ],
   "source": [
    "#Tendencia central\n",
    "df_analyzer.mean()"
   ]
  },
  {
   "cell_type": "markdown",
   "id": "22f73fe7",
   "metadata": {},
   "source": [
    "Los mayores promedios se consiguen en lógica y paralelización."
   ]
  },
  {
   "cell_type": "code",
   "execution_count": 34,
   "id": "3ae0ca9f",
   "metadata": {},
   "outputs": [
    {
     "data": {
      "text/plain": [
       "Total                13.00\n",
       "Average               1.86\n",
       "Abstraction           1.00\n",
       "Parallelization       2.00\n",
       "Logic                 2.00\n",
       "Synchronization       1.00\n",
       "Flow Control          2.00\n",
       "UserInteractivity     2.00\n",
       "DataRepresentation    2.00\n",
       "dtype: float64"
      ]
     },
     "execution_count": 34,
     "metadata": {},
     "output_type": "execute_result"
    }
   ],
   "source": [
    "#Tendencia central\n",
    "df_analyzer.median()"
   ]
  },
  {
   "cell_type": "markdown",
   "id": "de67ec65",
   "metadata": {},
   "source": [
    "A partir de la mediana destaca el hecho de que la mitad de los proyectos sólo tienen un valor de 0 o 1  en abtracción y en sincronización. Coincide con el segundo cuartil y el percentil 50%. para el resto de habilidades en cuanto a pensamiento computacional la mediana se sitúa en 2 puntos. es una medida central más representativa cuando las puntuaciones presentan desviaciones en torno a la media."
   ]
  },
  {
   "cell_type": "code",
   "execution_count": 84,
   "id": "0b444879",
   "metadata": {},
   "outputs": [
    {
     "data": {
      "text/plain": [
       "Total                13.00\n",
       "Average               1.86\n",
       "Abstraction           1.00\n",
       "Parallelization       2.00\n",
       "Logic                 2.00\n",
       "Synchronization       1.00\n",
       "Flow Control          2.00\n",
       "UserInteractivity     2.00\n",
       "DataRepresentation    2.00\n",
       "Name: 0.5, dtype: float64"
      ]
     },
     "execution_count": 84,
     "metadata": {},
     "output_type": "execute_result"
    }
   ],
   "source": [
    "# Percentil: Valor que no se supera en un 50% de los proyectos\n",
    "df_analyzer.quantile(0.5)"
   ]
  },
  {
   "cell_type": "code",
   "execution_count": 85,
   "id": "0c8bda5f",
   "metadata": {},
   "outputs": [
    {
     "data": {
      "text/plain": [
       "Total                15.00\n",
       "Average               2.14\n",
       "Abstraction           1.00\n",
       "Parallelization       2.00\n",
       "Logic                 2.00\n",
       "Synchronization       1.00\n",
       "Flow Control          2.00\n",
       "UserInteractivity     2.00\n",
       "DataRepresentation    2.00\n",
       "Name: 0.6, dtype: float64"
      ]
     },
     "execution_count": 85,
     "metadata": {},
     "output_type": "execute_result"
    }
   ],
   "source": [
    "# Percentil: Valor que no se supera en un 60% de los proyectos\n",
    "df_analyzer.quantile(0.6)"
   ]
  },
  {
   "cell_type": "markdown",
   "id": "61be815a",
   "metadata": {},
   "source": [
    "Representamos a continuación el diagrama de cajas. El rango intercuartílico es muy estrecho en la interactividad del usuario y en paralelización. El primer y el tercer cuartil prácticamente coinciden con la mediana en los 2 puntos conseguidos por el proyecto, llegando a considerarse otras puntuaciones como datos atípicos. \n",
    "\n",
    "Tanto en lógica como en representación de los datos las diferencias entre el primer y el tercer cuartil son similares y la mediana se sitúa en los 2 puntos.\n",
    "\n",
    "En abstracción la mediana se encuentra en 1 punto, dejando arriba y abajo el mismo nº de proyectos. La diferencia entere el tercer y el primer cuartil, se corresponde con todo el rango de valores posibles, de modo que el 75% de los proyectos ha alcanzado los tres puntos en esta habilidad.\n",
    "\n",
    "En sincronización la puntuación que deja a derechas e izquierdas el 50% de puntuaciones de los proyectos o mediana está en un punto. El primer cuartil está en un punto y el tercer cuartil está en 2 puntos para los proyectos.\n",
    "\n",
    "El rango intercuatílico es más estrecho para el control de flujo del programa. la mediana coincide con el tercer cuartil en 2 puntos. El 25% de los proyectos tienen una puntuación de 1 punto."
   ]
  },
  {
   "cell_type": "code",
   "execution_count": 88,
   "id": "e8830e29",
   "metadata": {},
   "outputs": [
    {
     "data": {
      "image/png": "[encoded data removed]",
      "text/plain": [
       "<Figure size 432x288 with 1 Axes>"
      ]
     },
     "metadata": {
      "needs_background": "light"
     },
     "output_type": "display_data"
    }
   ],
   "source": [
    "sns.boxplot(data=df_analyzer)\n",
    "plt.xticks(rotation=90);"
   ]
  },
  {
   "cell_type": "code",
   "execution_count": 36,
   "id": "3e5eddae",
   "metadata": {},
   "outputs": [
    {
     "data": {
      "text/plain": [
       "Total                36.96\n",
       "Average               0.75\n",
       "Abstraction           1.48\n",
       "Parallelization       0.92\n",
       "Logic                 1.59\n",
       "Synchronization       1.17\n",
       "Flow Control          0.70\n",
       "UserInteractivity     0.61\n",
       "DataRepresentation    1.62\n",
       "dtype: float64"
      ]
     },
     "execution_count": 36,
     "metadata": {},
     "output_type": "execute_result"
    }
   ],
   "source": [
    "df_analyzer.var()"
   ]
  },
  {
   "cell_type": "code",
   "execution_count": 37,
   "id": "62212360",
   "metadata": {},
   "outputs": [
    {
     "data": {
      "text/plain": [
       "Total                6.08\n",
       "Average              0.87\n",
       "Abstraction          1.22\n",
       "Parallelization      0.96\n",
       "Logic                1.26\n",
       "Synchronization      1.08\n",
       "Flow Control         0.83\n",
       "UserInteractivity    0.78\n",
       "DataRepresentation   1.27\n",
       "dtype: float64"
      ]
     },
     "execution_count": 37,
     "metadata": {},
     "output_type": "execute_result"
    }
   ],
   "source": [
    "df_analyzer.std()"
   ]
  },
  {
   "cell_type": "markdown",
   "id": "0407a620",
   "metadata": {},
   "source": [
    "Al calcular la varianza y la desviación típica, vemos que la dispersión en torno a la media de cada habilidad del CT es bastante elevada para los valores de puntuación posibles (0,1,2,3). La interactividad y el flujo de control del programa analizados en los proyectos presentan valores más concentrados en torno a la media.\n",
    "\n",
    "A continuación se busca si existe relación y dependencia entre cada par de variables que representan cada área del CT y entre éstas y el total. Para ello se calculan covarianza y correlación."
   ]
  },
  {
   "cell_type": "code",
   "execution_count": 38,
   "id": "536329c3",
   "metadata": {},
   "outputs": [
    {
     "data": {
      "text/html": [
       "<div>\n",
       "<style scoped>\n",
       "    .dataframe tbody tr th:only-of-type {\n",
       "        vertical-align: middle;\n",
       "    }\n",
       "\n",
       "    .dataframe tbody tr th {\n",
       "        vertical-align: top;\n",
       "    }\n",
       "\n",
       "    .dataframe thead th {\n",
       "        text-align: right;\n",
       "    }\n",
       "</style>\n",
       "<table border=\"1\" class=\"dataframe\">\n",
       "  <thead>\n",
       "    <tr style=\"text-align: right;\">\n",
       "      <th></th>\n",
       "      <th>Total</th>\n",
       "      <th>Average</th>\n",
       "      <th>Abstraction</th>\n",
       "      <th>Parallelization</th>\n",
       "      <th>Logic</th>\n",
       "      <th>Synchronization</th>\n",
       "      <th>Flow Control</th>\n",
       "      <th>UserInteractivity</th>\n",
       "      <th>DataRepresentation</th>\n",
       "    </tr>\n",
       "  </thead>\n",
       "  <tbody>\n",
       "    <tr>\n",
       "      <th>Total</th>\n",
       "      <td>36.96</td>\n",
       "      <td>5.28</td>\n",
       "      <td>5.82</td>\n",
       "      <td>5.09</td>\n",
       "      <td>6.67</td>\n",
       "      <td>4.64</td>\n",
       "      <td>4.16</td>\n",
       "      <td>4.08</td>\n",
       "      <td>6.50</td>\n",
       "    </tr>\n",
       "    <tr>\n",
       "      <th>Average</th>\n",
       "      <td>5.28</td>\n",
       "      <td>0.75</td>\n",
       "      <td>0.83</td>\n",
       "      <td>0.73</td>\n",
       "      <td>0.95</td>\n",
       "      <td>0.66</td>\n",
       "      <td>0.59</td>\n",
       "      <td>0.58</td>\n",
       "      <td>0.93</td>\n",
       "    </tr>\n",
       "    <tr>\n",
       "      <th>Abstraction</th>\n",
       "      <td>5.82</td>\n",
       "      <td>0.83</td>\n",
       "      <td>1.48</td>\n",
       "      <td>0.79</td>\n",
       "      <td>1.07</td>\n",
       "      <td>0.44</td>\n",
       "      <td>0.62</td>\n",
       "      <td>0.54</td>\n",
       "      <td>0.88</td>\n",
       "    </tr>\n",
       "    <tr>\n",
       "      <th>Parallelization</th>\n",
       "      <td>5.09</td>\n",
       "      <td>0.73</td>\n",
       "      <td>0.79</td>\n",
       "      <td>0.92</td>\n",
       "      <td>0.86</td>\n",
       "      <td>0.55</td>\n",
       "      <td>0.63</td>\n",
       "      <td>0.62</td>\n",
       "      <td>0.72</td>\n",
       "    </tr>\n",
       "    <tr>\n",
       "      <th>Logic</th>\n",
       "      <td>6.67</td>\n",
       "      <td>0.95</td>\n",
       "      <td>1.07</td>\n",
       "      <td>0.86</td>\n",
       "      <td>1.59</td>\n",
       "      <td>0.63</td>\n",
       "      <td>0.62</td>\n",
       "      <td>0.67</td>\n",
       "      <td>1.23</td>\n",
       "    </tr>\n",
       "    <tr>\n",
       "      <th>Synchronization</th>\n",
       "      <td>4.64</td>\n",
       "      <td>0.66</td>\n",
       "      <td>0.44</td>\n",
       "      <td>0.55</td>\n",
       "      <td>0.63</td>\n",
       "      <td>1.17</td>\n",
       "      <td>0.50</td>\n",
       "      <td>0.45</td>\n",
       "      <td>0.90</td>\n",
       "    </tr>\n",
       "    <tr>\n",
       "      <th>Flow Control</th>\n",
       "      <td>4.16</td>\n",
       "      <td>0.59</td>\n",
       "      <td>0.62</td>\n",
       "      <td>0.63</td>\n",
       "      <td>0.62</td>\n",
       "      <td>0.50</td>\n",
       "      <td>0.70</td>\n",
       "      <td>0.57</td>\n",
       "      <td>0.53</td>\n",
       "    </tr>\n",
       "    <tr>\n",
       "      <th>UserInteractivity</th>\n",
       "      <td>4.08</td>\n",
       "      <td>0.58</td>\n",
       "      <td>0.54</td>\n",
       "      <td>0.62</td>\n",
       "      <td>0.67</td>\n",
       "      <td>0.45</td>\n",
       "      <td>0.57</td>\n",
       "      <td>0.61</td>\n",
       "      <td>0.62</td>\n",
       "    </tr>\n",
       "    <tr>\n",
       "      <th>DataRepresentation</th>\n",
       "      <td>6.50</td>\n",
       "      <td>0.93</td>\n",
       "      <td>0.88</td>\n",
       "      <td>0.72</td>\n",
       "      <td>1.23</td>\n",
       "      <td>0.90</td>\n",
       "      <td>0.53</td>\n",
       "      <td>0.62</td>\n",
       "      <td>1.62</td>\n",
       "    </tr>\n",
       "  </tbody>\n",
       "</table>\n",
       "</div>"
      ],
      "text/plain": [
       "                    Total  Average  Abstraction  Parallelization  Logic  \\\n",
       "Total               36.96     5.28         5.82             5.09   6.67   \n",
       "Average              5.28     0.75         0.83             0.73   0.95   \n",
       "Abstraction          5.82     0.83         1.48             0.79   1.07   \n",
       "Parallelization      5.09     0.73         0.79             0.92   0.86   \n",
       "Logic                6.67     0.95         1.07             0.86   1.59   \n",
       "Synchronization      4.64     0.66         0.44             0.55   0.63   \n",
       "Flow Control         4.16     0.59         0.62             0.63   0.62   \n",
       "UserInteractivity    4.08     0.58         0.54             0.62   0.67   \n",
       "DataRepresentation   6.50     0.93         0.88             0.72   1.23   \n",
       "\n",
       "                    Synchronization  Flow Control  UserInteractivity  \\\n",
       "Total                          4.64          4.16               4.08   \n",
       "Average                        0.66          0.59               0.58   \n",
       "Abstraction                    0.44          0.62               0.54   \n",
       "Parallelization                0.55          0.63               0.62   \n",
       "Logic                          0.63          0.62               0.67   \n",
       "Synchronization                1.17          0.50               0.45   \n",
       "Flow Control                   0.50          0.70               0.57   \n",
       "UserInteractivity              0.45          0.57               0.61   \n",
       "DataRepresentation             0.90          0.53               0.62   \n",
       "\n",
       "                    DataRepresentation  \n",
       "Total                             6.50  \n",
       "Average                           0.93  \n",
       "Abstraction                       0.88  \n",
       "Parallelization                   0.72  \n",
       "Logic                             1.23  \n",
       "Synchronization                   0.90  \n",
       "Flow Control                      0.53  \n",
       "UserInteractivity                 0.62  \n",
       "DataRepresentation                1.62  "
      ]
     },
     "execution_count": 38,
     "metadata": {},
     "output_type": "execute_result"
    }
   ],
   "source": [
    "df_analyzer.cov()"
   ]
  },
  {
   "cell_type": "code",
   "execution_count": 39,
   "id": "77eaa48d",
   "metadata": {},
   "outputs": [
    {
     "data": {
      "text/plain": [
       "<AxesSubplot:>"
      ]
     },
     "execution_count": 39,
     "metadata": {},
     "output_type": "execute_result"
    },
    {
     "data": {
      "image/png": "[encoded data removed]",
      "text/plain": [
       "<Figure size 576x432 with 2 Axes>"
      ]
     },
     "metadata": {
      "needs_background": "light"
     },
     "output_type": "display_data"
    }
   ],
   "source": [
    "plt.figure(figsize=(8,6))\n",
    "cov_matrix= df_analyzer.cov()\n",
    "sns.heatmap(cov_matrix, annot= True, cmap='Blues')"
   ]
  },
  {
   "cell_type": "code",
   "execution_count": 40,
   "id": "32cd43f2",
   "metadata": {},
   "outputs": [
    {
     "data": {
      "text/html": [
       "<div>\n",
       "<style scoped>\n",
       "    .dataframe tbody tr th:only-of-type {\n",
       "        vertical-align: middle;\n",
       "    }\n",
       "\n",
       "    .dataframe tbody tr th {\n",
       "        vertical-align: top;\n",
       "    }\n",
       "\n",
       "    .dataframe thead th {\n",
       "        text-align: right;\n",
       "    }\n",
       "</style>\n",
       "<table border=\"1\" class=\"dataframe\">\n",
       "  <thead>\n",
       "    <tr style=\"text-align: right;\">\n",
       "      <th></th>\n",
       "      <th>Total</th>\n",
       "      <th>Average</th>\n",
       "      <th>Abstraction</th>\n",
       "      <th>Parallelization</th>\n",
       "      <th>Logic</th>\n",
       "      <th>Synchronization</th>\n",
       "      <th>Flow Control</th>\n",
       "      <th>UserInteractivity</th>\n",
       "      <th>DataRepresentation</th>\n",
       "    </tr>\n",
       "  </thead>\n",
       "  <tbody>\n",
       "    <tr>\n",
       "      <th>Total</th>\n",
       "      <td>1.00</td>\n",
       "      <td>1.00</td>\n",
       "      <td>0.79</td>\n",
       "      <td>0.87</td>\n",
       "      <td>0.87</td>\n",
       "      <td>0.71</td>\n",
       "      <td>0.82</td>\n",
       "      <td>0.86</td>\n",
       "      <td>0.84</td>\n",
       "    </tr>\n",
       "    <tr>\n",
       "      <th>Average</th>\n",
       "      <td>1.00</td>\n",
       "      <td>1.00</td>\n",
       "      <td>0.79</td>\n",
       "      <td>0.87</td>\n",
       "      <td>0.87</td>\n",
       "      <td>0.71</td>\n",
       "      <td>0.82</td>\n",
       "      <td>0.86</td>\n",
       "      <td>0.84</td>\n",
       "    </tr>\n",
       "    <tr>\n",
       "      <th>Abstraction</th>\n",
       "      <td>0.79</td>\n",
       "      <td>0.79</td>\n",
       "      <td>1.00</td>\n",
       "      <td>0.68</td>\n",
       "      <td>0.70</td>\n",
       "      <td>0.33</td>\n",
       "      <td>0.61</td>\n",
       "      <td>0.57</td>\n",
       "      <td>0.57</td>\n",
       "    </tr>\n",
       "    <tr>\n",
       "      <th>Parallelization</th>\n",
       "      <td>0.87</td>\n",
       "      <td>0.87</td>\n",
       "      <td>0.68</td>\n",
       "      <td>1.00</td>\n",
       "      <td>0.71</td>\n",
       "      <td>0.53</td>\n",
       "      <td>0.79</td>\n",
       "      <td>0.83</td>\n",
       "      <td>0.59</td>\n",
       "    </tr>\n",
       "    <tr>\n",
       "      <th>Logic</th>\n",
       "      <td>0.87</td>\n",
       "      <td>0.87</td>\n",
       "      <td>0.70</td>\n",
       "      <td>0.71</td>\n",
       "      <td>1.00</td>\n",
       "      <td>0.46</td>\n",
       "      <td>0.59</td>\n",
       "      <td>0.68</td>\n",
       "      <td>0.77</td>\n",
       "    </tr>\n",
       "    <tr>\n",
       "      <th>Synchronization</th>\n",
       "      <td>0.71</td>\n",
       "      <td>0.71</td>\n",
       "      <td>0.33</td>\n",
       "      <td>0.53</td>\n",
       "      <td>0.46</td>\n",
       "      <td>1.00</td>\n",
       "      <td>0.55</td>\n",
       "      <td>0.54</td>\n",
       "      <td>0.65</td>\n",
       "    </tr>\n",
       "    <tr>\n",
       "      <th>Flow Control</th>\n",
       "      <td>0.82</td>\n",
       "      <td>0.82</td>\n",
       "      <td>0.61</td>\n",
       "      <td>0.79</td>\n",
       "      <td>0.59</td>\n",
       "      <td>0.55</td>\n",
       "      <td>1.00</td>\n",
       "      <td>0.87</td>\n",
       "      <td>0.50</td>\n",
       "    </tr>\n",
       "    <tr>\n",
       "      <th>UserInteractivity</th>\n",
       "      <td>0.86</td>\n",
       "      <td>0.86</td>\n",
       "      <td>0.57</td>\n",
       "      <td>0.83</td>\n",
       "      <td>0.68</td>\n",
       "      <td>0.54</td>\n",
       "      <td>0.87</td>\n",
       "      <td>1.00</td>\n",
       "      <td>0.62</td>\n",
       "    </tr>\n",
       "    <tr>\n",
       "      <th>DataRepresentation</th>\n",
       "      <td>0.84</td>\n",
       "      <td>0.84</td>\n",
       "      <td>0.57</td>\n",
       "      <td>0.59</td>\n",
       "      <td>0.77</td>\n",
       "      <td>0.65</td>\n",
       "      <td>0.50</td>\n",
       "      <td>0.62</td>\n",
       "      <td>1.00</td>\n",
       "    </tr>\n",
       "  </tbody>\n",
       "</table>\n",
       "</div>"
      ],
      "text/plain": [
       "                    Total  Average  Abstraction  Parallelization  Logic  \\\n",
       "Total                1.00     1.00         0.79             0.87   0.87   \n",
       "Average              1.00     1.00         0.79             0.87   0.87   \n",
       "Abstraction          0.79     0.79         1.00             0.68   0.70   \n",
       "Parallelization      0.87     0.87         0.68             1.00   0.71   \n",
       "Logic                0.87     0.87         0.70             0.71   1.00   \n",
       "Synchronization      0.71     0.71         0.33             0.53   0.46   \n",
       "Flow Control         0.82     0.82         0.61             0.79   0.59   \n",
       "UserInteractivity    0.86     0.86         0.57             0.83   0.68   \n",
       "DataRepresentation   0.84     0.84         0.57             0.59   0.77   \n",
       "\n",
       "                    Synchronization  Flow Control  UserInteractivity  \\\n",
       "Total                          0.71          0.82               0.86   \n",
       "Average                        0.71          0.82               0.86   \n",
       "Abstraction                    0.33          0.61               0.57   \n",
       "Parallelization                0.53          0.79               0.83   \n",
       "Logic                          0.46          0.59               0.68   \n",
       "Synchronization                1.00          0.55               0.54   \n",
       "Flow Control                   0.55          1.00               0.87   \n",
       "UserInteractivity              0.54          0.87               1.00   \n",
       "DataRepresentation             0.65          0.50               0.62   \n",
       "\n",
       "                    DataRepresentation  \n",
       "Total                             0.84  \n",
       "Average                           0.84  \n",
       "Abstraction                       0.57  \n",
       "Parallelization                   0.59  \n",
       "Logic                             0.77  \n",
       "Synchronization                   0.65  \n",
       "Flow Control                      0.50  \n",
       "UserInteractivity                 0.62  \n",
       "DataRepresentation                1.00  "
      ]
     },
     "execution_count": 40,
     "metadata": {},
     "output_type": "execute_result"
    }
   ],
   "source": [
    "df_analyzer.corr()"
   ]
  },
  {
   "cell_type": "code",
   "execution_count": 41,
   "id": "4b6e3424",
   "metadata": {},
   "outputs": [
    {
     "data": {
      "text/plain": [
       "<AxesSubplot:>"
      ]
     },
     "execution_count": 41,
     "metadata": {},
     "output_type": "execute_result"
    },
    {
     "data": {
      "image/png": "[encoded data removed]",
      "text/plain": [
       "<Figure size 576x432 with 2 Axes>"
      ]
     },
     "metadata": {
      "needs_background": "light"
     },
     "output_type": "display_data"
    }
   ],
   "source": [
    "plt.figure(figsize=(8,6))\n",
    "#sns.set_context('paper', font_scale=1.4)\n",
    "corr_matrix= df_analyzer.corr()\n",
    "sns.heatmap(corr_matrix, annot= True, cmap='Blues')"
   ]
  },
  {
   "cell_type": "code",
   "execution_count": 42,
   "id": "22c6d358",
   "metadata": {},
   "outputs": [
    {
     "data": {
      "text/plain": [
       "Total                1.00\n",
       "Average              1.00\n",
       "Abstraction          0.79\n",
       "Parallelization      0.87\n",
       "Logic                0.87\n",
       "Synchronization      0.71\n",
       "Flow Control         0.82\n",
       "UserInteractivity    0.86\n",
       "DataRepresentation   0.84\n",
       "dtype: float64"
      ]
     },
     "execution_count": 42,
     "metadata": {},
     "output_type": "execute_result"
    }
   ],
   "source": [
    "# Correlación de cada CT con la puntuación total.\n",
    "df_analyzer.corrwith(df_analyzer[\"Total\"])"
   ]
  },
  {
   "cell_type": "code",
   "execution_count": null,
   "id": "0129794a",
   "metadata": {},
   "outputs": [],
   "source": []
  },
  {
   "cell_type": "code",
   "execution_count": 45,
   "id": "519a75b7",
   "metadata": {},
   "outputs": [
    {
     "data": {
      "text/html": [
       "<div>\n",
       "<style scoped>\n",
       "    .dataframe tbody tr th:only-of-type {\n",
       "        vertical-align: middle;\n",
       "    }\n",
       "\n",
       "    .dataframe tbody tr th {\n",
       "        vertical-align: top;\n",
       "    }\n",
       "\n",
       "    .dataframe thead th {\n",
       "        text-align: right;\n",
       "    }\n",
       "</style>\n",
       "<table border=\"1\" class=\"dataframe\">\n",
       "  <thead>\n",
       "    <tr style=\"text-align: right;\">\n",
       "      <th></th>\n",
       "      <th>Total</th>\n",
       "      <th>Average</th>\n",
       "      <th>Abstraction</th>\n",
       "      <th>Parallelization</th>\n",
       "      <th>Logic</th>\n",
       "      <th>Synchronization</th>\n",
       "      <th>Flow Control</th>\n",
       "      <th>UserInteractivity</th>\n",
       "      <th>DataRepresentation</th>\n",
       "    </tr>\n",
       "  </thead>\n",
       "  <tbody>\n",
       "    <tr>\n",
       "      <th>0</th>\n",
       "      <td>0</td>\n",
       "      <td>0.00</td>\n",
       "      <td>0</td>\n",
       "      <td>0</td>\n",
       "      <td>0</td>\n",
       "      <td>0</td>\n",
       "      <td>0</td>\n",
       "      <td>0</td>\n",
       "      <td>0</td>\n",
       "    </tr>\n",
       "    <tr>\n",
       "      <th>1</th>\n",
       "      <td>13</td>\n",
       "      <td>1.86</td>\n",
       "      <td>1</td>\n",
       "      <td>2</td>\n",
       "      <td>3</td>\n",
       "      <td>1</td>\n",
       "      <td>1</td>\n",
       "      <td>2</td>\n",
       "      <td>3</td>\n",
       "    </tr>\n",
       "    <tr>\n",
       "      <th>2</th>\n",
       "      <td>27</td>\n",
       "      <td>3.86</td>\n",
       "      <td>4</td>\n",
       "      <td>5</td>\n",
       "      <td>5</td>\n",
       "      <td>2</td>\n",
       "      <td>3</td>\n",
       "      <td>4</td>\n",
       "      <td>4</td>\n",
       "    </tr>\n",
       "    <tr>\n",
       "      <th>3</th>\n",
       "      <td>45</td>\n",
       "      <td>6.43</td>\n",
       "      <td>7</td>\n",
       "      <td>8</td>\n",
       "      <td>8</td>\n",
       "      <td>3</td>\n",
       "      <td>6</td>\n",
       "      <td>6</td>\n",
       "      <td>7</td>\n",
       "    </tr>\n",
       "    <tr>\n",
       "      <th>4</th>\n",
       "      <td>50</td>\n",
       "      <td>7.14</td>\n",
       "      <td>7</td>\n",
       "      <td>10</td>\n",
       "      <td>8</td>\n",
       "      <td>4</td>\n",
       "      <td>7</td>\n",
       "      <td>7</td>\n",
       "      <td>7</td>\n",
       "    </tr>\n",
       "    <tr>\n",
       "      <th>...</th>\n",
       "      <td>...</td>\n",
       "      <td>...</td>\n",
       "      <td>...</td>\n",
       "      <td>...</td>\n",
       "      <td>...</td>\n",
       "      <td>...</td>\n",
       "      <td>...</td>\n",
       "      <td>...</td>\n",
       "      <td>...</td>\n",
       "    </tr>\n",
       "    <tr>\n",
       "      <th>95</th>\n",
       "      <td>1031</td>\n",
       "      <td>147.29</td>\n",
       "      <td>130</td>\n",
       "      <td>171</td>\n",
       "      <td>163</td>\n",
       "      <td>122</td>\n",
       "      <td>139</td>\n",
       "      <td>149</td>\n",
       "      <td>157</td>\n",
       "    </tr>\n",
       "    <tr>\n",
       "      <th>96</th>\n",
       "      <td>1036</td>\n",
       "      <td>148.00</td>\n",
       "      <td>130</td>\n",
       "      <td>172</td>\n",
       "      <td>163</td>\n",
       "      <td>122</td>\n",
       "      <td>141</td>\n",
       "      <td>151</td>\n",
       "      <td>157</td>\n",
       "    </tr>\n",
       "    <tr>\n",
       "      <th>97</th>\n",
       "      <td>1042</td>\n",
       "      <td>148.86</td>\n",
       "      <td>130</td>\n",
       "      <td>173</td>\n",
       "      <td>163</td>\n",
       "      <td>123</td>\n",
       "      <td>143</td>\n",
       "      <td>153</td>\n",
       "      <td>157</td>\n",
       "    </tr>\n",
       "    <tr>\n",
       "      <th>98</th>\n",
       "      <td>1047</td>\n",
       "      <td>149.57</td>\n",
       "      <td>130</td>\n",
       "      <td>174</td>\n",
       "      <td>163</td>\n",
       "      <td>123</td>\n",
       "      <td>145</td>\n",
       "      <td>155</td>\n",
       "      <td>157</td>\n",
       "    </tr>\n",
       "    <tr>\n",
       "      <th>99</th>\n",
       "      <td>1052</td>\n",
       "      <td>150.29</td>\n",
       "      <td>130</td>\n",
       "      <td>175</td>\n",
       "      <td>163</td>\n",
       "      <td>123</td>\n",
       "      <td>147</td>\n",
       "      <td>157</td>\n",
       "      <td>157</td>\n",
       "    </tr>\n",
       "  </tbody>\n",
       "</table>\n",
       "<p>100 rows × 9 columns</p>\n",
       "</div>"
      ],
      "text/plain": [
       "    Total  Average  Abstraction  Parallelization  Logic  Synchronization  \\\n",
       "0       0     0.00            0                0      0                0   \n",
       "1      13     1.86            1                2      3                1   \n",
       "2      27     3.86            4                5      5                2   \n",
       "3      45     6.43            7                8      8                3   \n",
       "4      50     7.14            7               10      8                4   \n",
       "..    ...      ...          ...              ...    ...              ...   \n",
       "95   1031   147.29          130              171    163              122   \n",
       "96   1036   148.00          130              172    163              122   \n",
       "97   1042   148.86          130              173    163              123   \n",
       "98   1047   149.57          130              174    163              123   \n",
       "99   1052   150.29          130              175    163              123   \n",
       "\n",
       "    Flow Control  UserInteractivity  DataRepresentation  \n",
       "0              0                  0                   0  \n",
       "1              1                  2                   3  \n",
       "2              3                  4                   4  \n",
       "3              6                  6                   7  \n",
       "4              7                  7                   7  \n",
       "..           ...                ...                 ...  \n",
       "95           139                149                 157  \n",
       "96           141                151                 157  \n",
       "97           143                153                 157  \n",
       "98           145                155                 157  \n",
       "99           147                157                 157  \n",
       "\n",
       "[100 rows x 9 columns]"
      ]
     },
     "execution_count": 45,
     "metadata": {},
     "output_type": "execute_result"
    }
   ],
   "source": [
    "df = df_analyzer.select_dtypes(include=np.number).cumsum()\n",
    "df"
   ]
  },
  {
   "cell_type": "code",
   "execution_count": 46,
   "id": "15a27306",
   "metadata": {},
   "outputs": [],
   "source": [
    "df_plot_cumsum = df.loc[:, \"Abstraction\":\"DataRepresentation\"]"
   ]
  },
  {
   "cell_type": "code",
   "execution_count": 47,
   "id": "1745a956",
   "metadata": {},
   "outputs": [
    {
     "data": {
      "text/plain": [
       "<AxesSubplot:>"
      ]
     },
     "execution_count": 47,
     "metadata": {},
     "output_type": "execute_result"
    },
    {
     "data": {
      "image/png": "[encoded data removed]",
      "text/plain": [
       "<Figure size 432x288 with 1 Axes>"
      ]
     },
     "metadata": {
      "needs_background": "light"
     },
     "output_type": "display_data"
    }
   ],
   "source": [
    "df_plot_cumsum.plot()"
   ]
  },
  {
   "cell_type": "code",
   "execution_count": null,
   "id": "4d9d641d",
   "metadata": {},
   "outputs": [],
   "source": []
  },
  {
   "cell_type": "code",
   "execution_count": 48,
   "id": "ddf5f398",
   "metadata": {},
   "outputs": [],
   "source": [
    "df_plot = df_analyzer.loc[:, \"Abstraction\":\"DataRepresentation\"]"
   ]
  },
  {
   "cell_type": "code",
   "execution_count": 49,
   "id": "14646676",
   "metadata": {},
   "outputs": [
    {
     "data": {
      "text/plain": [
       "<AxesSubplot:>"
      ]
     },
     "execution_count": 49,
     "metadata": {},
     "output_type": "execute_result"
    },
    {
     "data": {
      "image/png": "[encoded data removed]",
      "text/plain": [
       "<Figure size 432x288 with 1 Axes>"
      ]
     },
     "metadata": {
      "needs_background": "light"
     },
     "output_type": "display_data"
    }
   ],
   "source": [
    "df_plot.plot()"
   ]
  },
  {
   "cell_type": "markdown",
   "id": "5565ad8d",
   "metadata": {},
   "source": [
    "Para cada par de habilidades de CT, obtenemos las nubes de puntos. No hay una relación directa aparente."
   ]
  },
  {
   "cell_type": "code",
   "execution_count": 50,
   "id": "7aa1e766",
   "metadata": {},
   "outputs": [
    {
     "data": {
      "text/plain": [
       "Text(0, 0.5, 'Abstraction')"
      ]
     },
     "execution_count": 50,
     "metadata": {},
     "output_type": "execute_result"
    },
    {
     "data": {
      "image/png": "[encoded data removed]",
      "text/plain": [
       "<Figure size 432x288 with 1 Axes>"
      ]
     },
     "metadata": {
      "needs_background": "light"
     },
     "output_type": "display_data"
    }
   ],
   "source": [
    "plt.scatter(df_analyzer['Logic'], df_analyzer['Abstraction'])\n",
    "plt.xlabel(\"Logic\")\n",
    "plt.ylabel('Abstraction')"
   ]
  },
  {
   "cell_type": "code",
   "execution_count": 51,
   "id": "d9f99121",
   "metadata": {},
   "outputs": [
    {
     "data": {
      "text/plain": [
       "Project               100\n",
       "Total                 100\n",
       "Average               100\n",
       "Level                 100\n",
       "Abstraction           100\n",
       "Parallelization       100\n",
       "Logic                 100\n",
       "Synchronization       100\n",
       "Flow Control          100\n",
       "UserInteractivity     100\n",
       "DataRepresentation    100\n",
       "dtype: int64"
      ]
     },
     "execution_count": 51,
     "metadata": {},
     "output_type": "execute_result"
    }
   ],
   "source": [
    "pd.notnull(df_analyzer).count()"
   ]
  },
  {
   "cell_type": "code",
   "execution_count": 57,
   "id": "a832db99",
   "metadata": {},
   "outputs": [
    {
     "data": {
      "image/png": "[encoded data removed]",
      "text/plain": [
       "<Figure size 432x288 with 1 Axes>"
      ]
     },
     "metadata": {
      "needs_background": "light"
     },
     "output_type": "display_data"
    }
   ],
   "source": [
    "plt.plot(df_analyzer.index, df_analyzer.Total,label=\"Total_Score\")\n",
    "plt.plot(df_analyzer.index, df_analyzer.Average, label=\"Average_Score\")\n",
    "plt.xlabel(\"Number of projects\")\n",
    "plt.ylabel(\"Score\")\n",
    "plt.title(\"Total and mean score\")\n",
    "plt.legend()\n",
    "plt.show()"
   ]
  },
  {
   "cell_type": "code",
   "execution_count": null,
   "id": "a67aba98",
   "metadata": {},
   "outputs": [],
   "source": []
  },
  {
   "cell_type": "code",
   "execution_count": 61,
   "id": "eed92119",
   "metadata": {},
   "outputs": [
    {
     "data": {
      "text/plain": [
       "<seaborn.axisgrid.PairGrid at 0x7f390d4505e0>"
      ]
     },
     "execution_count": 61,
     "metadata": {},
     "output_type": "execute_result"
    },
    {
     "data": {
      "image/png": "[encoded data removed]",
      "text/plain": [
       "<Figure size 1620x1620 with 90 Axes>"
      ]
     },
     "metadata": {
      "needs_background": "light"
     },
     "output_type": "display_data"
    }
   ],
   "source": [
    "sns.pairplot(df_analyzer)"
   ]
  },
  {
   "cell_type": "code",
   "execution_count": 90,
   "id": "9cf3a7cf",
   "metadata": {},
   "outputs": [
    {
     "data": {
      "image/png": "[encoded data removed]",
      "text/plain": [
       "<Figure size 432x432 with 3 Axes>"
      ]
     },
     "metadata": {
      "needs_background": "light"
     },
     "output_type": "display_data"
    }
   ],
   "source": [
    "sns.jointplot(x='Abstraction', y='Parallelization', data=df_analyzer, kind='reg');"
   ]
  },
  {
   "cell_type": "markdown",
   "id": "82e9f03e",
   "metadata": {},
   "source": [
    "A partir de la representación scatter entre dos CT, obtenemos una representación de puntos que reparte sus valores entre 0 y 3 puntos, sin una relación que se aprecie a simple vista, aunque según la matriz de correlación si pueda existir cierta dependencia."
   ]
  },
  {
   "cell_type": "code",
   "execution_count": null,
   "id": "780a616d",
   "metadata": {},
   "outputs": [],
   "source": []
  },
  {
   "cell_type": "code",
   "execution_count": 62,
   "id": "1bca2400",
   "metadata": {},
   "outputs": [
    {
     "ename": "IndexError",
     "evalue": "index 9 is out of bounds for axis 1 with size 9",
     "output_type": "error",
     "traceback": [
      "\u001b[0;31m---------------------------------------------------------------------------\u001b[0m",
      "\u001b[0;31mIndexError\u001b[0m                                Traceback (most recent call last)",
      "\u001b[0;32m<ipython-input-62-20ef4ae0bb26>\u001b[0m in \u001b[0;36m<module>\u001b[0;34m\u001b[0m\n\u001b[1;32m     16\u001b[0m \u001b[0;32mfor\u001b[0m \u001b[0mi\u001b[0m \u001b[0;32min\u001b[0m \u001b[0mrange\u001b[0m\u001b[0;34m(\u001b[0m\u001b[0mlen\u001b[0m\u001b[0;34m(\u001b[0m\u001b[0mct\u001b[0m\u001b[0;34m)\u001b[0m\u001b[0;34m)\u001b[0m\u001b[0;34m:\u001b[0m\u001b[0;34m\u001b[0m\u001b[0;34m\u001b[0m\u001b[0m\n\u001b[1;32m     17\u001b[0m     \u001b[0;32mfor\u001b[0m \u001b[0mj\u001b[0m \u001b[0;32min\u001b[0m \u001b[0mrange\u001b[0m\u001b[0;34m(\u001b[0m\u001b[0mlen\u001b[0m\u001b[0;34m(\u001b[0m\u001b[0mct\u001b[0m\u001b[0;34m)\u001b[0m\u001b[0;34m)\u001b[0m\u001b[0;34m:\u001b[0m\u001b[0;34m\u001b[0m\u001b[0;34m\u001b[0m\u001b[0m\n\u001b[0;32m---> 18\u001b[0;31m         text = ax.text(j, i, corr_matrix[i, j],\n\u001b[0m\u001b[1;32m     19\u001b[0m                        ha=\"center\", va=\"center\", color=\"w\")\n\u001b[1;32m     20\u001b[0m \u001b[0mfig\u001b[0m\u001b[0;34m.\u001b[0m\u001b[0mtight_layout\u001b[0m\u001b[0;34m(\u001b[0m\u001b[0;34m)\u001b[0m\u001b[0;34m\u001b[0m\u001b[0;34m\u001b[0m\u001b[0m\n",
      "\u001b[0;31mIndexError\u001b[0m: index 9 is out of bounds for axis 1 with size 9"
     ]
    },
    {
     "data": {
      "image/png": "[encoded data removed]",
      "text/plain": [
       "<Figure size 432x288 with 1 Axes>"
      ]
     },
     "metadata": {
      "needs_background": "light"
     },
     "output_type": "display_data"
    }
   ],
   "source": [
    "##Mal\n",
    "corr_matrix=df_analyzer.corr().values\n",
    "fig, ax = plt.subplots()\n",
    "im = ax.imshow(corr_matrix)\n",
    "ct = df_analyzer.columns[1:]\n",
    "# We want to show all ticks...\n",
    "ax.set_xticks(np.arange(len(ct)))\n",
    "ax.set_yticks(np.arange(len(ct)))\n",
    "# ... and label them with the respective list entries\n",
    "ax.set_xticklabels(ct)\n",
    "ax.set_yticklabels(ct)\n",
    "# Rotate the tick labels and set their alignment.\n",
    "plt.setp(ax.get_xticklabels(), rotation=45, ha=\"right\",\n",
    "         rotation_mode=\"anchor\")\n",
    "# Loop over data dimensions and create text annotations.\n",
    "for i in range(len(ct)):\n",
    "    for j in range(len(ct)):\n",
    "        text = ax.text(j, i, corr_matrix[i, j],\n",
    "                       ha=\"center\", va=\"center\", color=\"w\")\n",
    "fig.tight_layout()\n",
    "plt.show()"
   ]
  },
  {
   "cell_type": "code",
   "execution_count": null,
   "id": "64518f7f",
   "metadata": {},
   "outputs": [],
   "source": []
  }
 ],
 "metadata": {
  "kernelspec": {
   "display_name": "Python 3",
   "language": "python",
   "name": "python3"
  },
  "language_info": {
   "codemirror_mode": {
    "name": "ipython",
    "version": 3
   },
   "file_extension": ".py",
   "mimetype": "text/x-python",
   "name": "python",
   "nbconvert_exporter": "python",
   "pygments_lexer": "ipython3",
   "version": "3.9.5"
  },
  "toc": {
   "base_numbering": 1,
   "nav_menu": {},
   "number_sections": true,
   "sideBar": true,
   "skip_h1_title": false,
   "title_cell": "Table of Contents",
   "title_sidebar": "Contents",
   "toc_cell": false,
   "toc_position": {},
   "toc_section_display": true,
   "toc_window_display": true
  },
  "varInspector": {
   "cols": {
    "lenName": 16,
    "lenType": 16,
    "lenVar": 40
   },
   "kernels_config": {
    "python": {
     "delete_cmd_postfix": "",
     "delete_cmd_prefix": "del ",
     "library": "var_list.py",
     "varRefreshCmd": "print(var_dic_list())"
    },
    "r": {
     "delete_cmd_postfix": ") ",
     "delete_cmd_prefix": "rm(",
     "library": "var_list.r",
     "varRefreshCmd": "cat(var_dic_list()) "
    }
   },
   "types_to_exclude": [
    "module",
    "function",
    "builtin_function_or_method",
    "instance",
    "_Feature"
   ],
   "window_display": false
  }
 },
 "nbformat": 4,
 "nbformat_minor": 5
}
